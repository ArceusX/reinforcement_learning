{
 "cells": [
  {
   "cell_type": "markdown",
   "metadata": {},
   "source": [
    "#### 2.2.1. Defining the World"
   ]
  },
  {
   "cell_type": "code",
   "execution_count": 1,
   "metadata": {
    "collapsed": false
   },
   "outputs": [
    {
     "name": "stdout",
     "output_type": "stream",
     "text": [
      "Populating the interactive namespace from numpy and matplotlib\n"
     ]
    },
    {
     "name": "stderr",
     "output_type": "stream",
     "text": [
      ":0: FutureWarning: IPython widgets are experimental and may change in the future.\n"
     ]
    }
   ],
   "source": [
    "# Set-up the pylab context\n",
    "%pylab inline\n",
    "random.seed(0)\n",
    "# Import libraries that will be used\n",
    "import copy\n",
    "import math\n",
    "from IPython.html.widgets import interact, interactive, fixed\n",
    "from IPython.html import widgets\n",
    "from IPython.display import clear_output, display, HTML"
   ]
  },
  {
   "cell_type": "code",
   "execution_count": 2,
   "metadata": {
    "collapsed": false
   },
   "outputs": [],
   "source": [
    "# This is a 3 X 4 Grid World represented by a 3 x 4 array\n",
    "# Each array location contains a character representing:\n",
    "#    O = Open location for the agent to traverse\n",
    "#    B = Location that cannot be traversed by the agent \n",
    "#    W = Ending location with the agent winning\n",
    "#    L = Ending location with the agent losing\n",
    "world = [['O','O','O','W'],  \n",
    "         ['O','B','O','L'],\n",
    "         ['O','O','O','O']]"
   ]
  },
  {
   "cell_type": "markdown",
   "metadata": {},
   "source": [
    "#### 2.2.2. Setting the Rewards"
   ]
  },
  {
   "cell_type": "code",
   "execution_count": 3,
   "metadata": {
    "collapsed": false
   },
   "outputs": [],
   "source": [
    "# Mapping of current state to reward value\n",
    "rewards = {}\n",
    "\n",
    "# Positive reward for entering the win state\n",
    "rewards['W'] = 1.0 \n",
    "\n",
    "# Negative reward for entering lost state\n",
    "rewards['L'] = -1.0 \n",
    "\n",
    "# No reward for all other states\n",
    "rewards['O'] = 0.0 \n",
    "rewards['B'] = 0.0"
   ]
  },
  {
   "cell_type": "markdown",
   "metadata": {},
   "source": [
    "#### 2.2.3. Initializing the Value Function"
   ]
  },
  {
   "cell_type": "code",
   "execution_count": 4,
   "metadata": {
    "collapsed": false
   },
   "outputs": [],
   "source": [
    "# Value function that defines the utility of being \n",
    "# in a particular state in the 3 X 4 grid world, \n",
    "# initialized to zero\n",
    "utility = [[0.0,0.0,0.0,0.0],\n",
    "           [0.0,0.0,0.0,0.0],\n",
    "           [0.0,0.0,0.0,0.0]]\n",
    "\n",
    "# Function to reset all utility values to 0\n",
    "def reset_util(utility):\n",
    "    for xx in xrange(len(utility)):\n",
    "        for yy in xrange(len(utility[xx])):\n",
    "            utility[xx][yy] = 0.0"
   ]
  },
  {
   "cell_type": "markdown",
   "metadata": {},
   "source": [
    "#### 2.2.4. Updating the Value Function"
   ]
  },
  {
   "cell_type": "code",
   "execution_count": 5,
   "metadata": {
    "collapsed": false
   },
   "outputs": [],
   "source": [
    "# Discount factor (gamma) applied to future rewards\n",
    "# Smaller value indicates less importance\n",
    "discount_factor = 1.0\n",
    "\n",
    "# Updates the utility of a particular grid location given \n",
    "#   x,y-coordinate in the world, \n",
    "#   current utility values, \n",
    "#   world representation, \n",
    "#   and the rewards\n",
    "def update_utility(xx, yy, utility, world):\n",
    "    \n",
    "    # Determine the reward for this grid location\n",
    "    reward = rewards[world[xx][yy]]\n",
    "        \n",
    "    # If the world location is blocked, it cannot be visited and has 0 utility\n",
    "    if(world[xx][yy] == 'B'):\n",
    "        return 0.0\n",
    "    \n",
    "    # If the world location is either the winning or losing, its utility is its reward\n",
    "    if(world[xx][yy] == 'W' or world[xx][yy] == 'L'):\n",
    "        return reward\n",
    "    \n",
    "    # Else, the utility is the reward of the current location plus the discounted maximum utility from this location \n",
    "    return reward + discount_factor * max_utility(xx, yy, utility, world)"
   ]
  },
  {
   "cell_type": "code",
   "execution_count": 6,
   "metadata": {
    "collapsed": false
   },
   "outputs": [],
   "source": [
    "# Updates the utility of each grid location \n",
    "# given the current utility values and the world\n",
    "def update_all_utility(utility, world):\n",
    "    for xx in range(3):\n",
    "        for yy in range(4):\n",
    "            utility[xx][yy] = update_utility(xx, yy, utility, world)"
   ]
  },
  {
   "cell_type": "markdown",
   "metadata": {},
   "source": [
    "#### 2.2.5. Determining the Action with Max Utility"
   ]
  },
  {
   "cell_type": "code",
   "execution_count": 7,
   "metadata": {
    "collapsed": false
   },
   "outputs": [],
   "source": [
    "# In the grid world, the probability of success \n",
    "# indicates the chance the movement (e.g. Up)\n",
    "# actually moves up, with a failure resulting\n",
    "# in a perpendicular direction (e.g. Left or Right)\n",
    "prob_action_success = 0.8 \n",
    "\n",
    "# Gets the max utility from the current location in the world\n",
    "# By observing the utility of each of the action posibilities\n",
    "# (Up, Down, Left, Right) and selecting the max\n",
    "def max_utility(xx, yy, utility, world):\n",
    "    \n",
    "    # Get the utility from moving up\n",
    "    # which inludes failures going left and right\n",
    "    # Any other state contributes 0 to the utility\n",
    "    # Because they have probability of 0\n",
    "    up_utility = prob_action_success * action_utility(xx, yy, -1, 0, utility, world) \n",
    "    up_utility = up_utility + (1 - prob_action_success)/2 * action_utility(xx, yy, 0, -1, utility, world)\n",
    "    up_utility = up_utility + (1 - prob_action_success)/2 * action_utility(xx, yy, 0, 1, utility, world)\n",
    "    \n",
    "    # Get the utility from moving down\n",
    "    # which inludes failures going left and right\n",
    "    # Any other state contributes 0 to the utility\n",
    "    # Because they have probability of 0\n",
    "    down_utility = prob_action_success * action_utility(xx, yy, 1, 0, utility, world) \n",
    "    down_utility = down_utility + (1 - prob_action_success)/2 * action_utility(xx, yy, 0, -1, utility, world)\n",
    "    down_utility = down_utility + (1 - prob_action_success)/2 * action_utility(xx, yy, 0, 1, utility, world)\n",
    "    \n",
    "    # Get the utility from moving left\n",
    "    # which inludes failures going up and down\n",
    "    # Any other state contributes 0 to the utility\n",
    "    # Because they have probability of 0\n",
    "    left_utility = prob_action_success * action_utility(xx, yy, 0, -1, utility, world) \n",
    "    left_utility = left_utility + (1 - prob_action_success)/2 * action_utility(xx, yy, -1, 0, utility, world)\n",
    "    left_utility = left_utility + (1 - prob_action_success)/2 * action_utility(xx, yy, 1, 0, utility, world)\n",
    "    \n",
    "    # Get the utility from moving right\n",
    "    # which inludes failures going up and down\n",
    "    # Any other state contributes 0 to the utility\n",
    "    # Because they have probability of 0\n",
    "    right_utility = prob_action_success * action_utility(xx, yy, 0, 1, utility, world) \n",
    "    right_utility = right_utility + (1 - prob_action_success)/2 * action_utility(xx, yy, -1, 0, utility, world)\n",
    "    right_utility = right_utility + (1 - prob_action_success)/2 * action_utility(xx, yy, 1, 0, utility, world)\n",
    "    \n",
    "    # Return the max of these utilities\n",
    "    return max(up_utility, down_utility, right_utility, left_utility)"
   ]
  },
  {
   "cell_type": "markdown",
   "metadata": {},
   "source": [
    "A helper function is implemented here to address certain edge cases (e.g. moving left from the left most of the world, attempting to move to a blocked grid location)."
   ]
  },
  {
   "cell_type": "code",
   "execution_count": 8,
   "metadata": {
    "collapsed": false
   },
   "outputs": [],
   "source": [
    "# Compute the utility of the new state \n",
    "# given a successful action taken from \n",
    "# the current state \n",
    "def action_utility(xx, yy, xxd, yyd, utility, world):\n",
    "    \n",
    "    # Edge cases where the action would move\n",
    "    # outside the grid world results in staying\n",
    "    # in the current location\n",
    "    if(xx + xxd < 0 or xx + xxd > 2 or yy + yyd < 0 or yy + yyd > 3):\n",
    "        return utility[xx][yy]\n",
    "    \n",
    "    # Edge cases where the action would move\n",
    "    # to a blocked location results in staying\n",
    "    # at the current location\n",
    "    if(world[xx + xxd][yy + yyd] == 'B'):\n",
    "        return utility[xx][yy]\n",
    "    \n",
    "    # Normal case, action moves to new state\n",
    "    # and utility is from the new state\n",
    "    return utility[xx + xxd][yy + yyd]"
   ]
  },
  {
   "cell_type": "markdown",
   "metadata": {},
   "source": [
    "#### 2.2.6. Creating Policies"
   ]
  },
  {
   "cell_type": "code",
   "execution_count": 9,
   "metadata": {
    "collapsed": false
   },
   "outputs": [],
   "source": [
    "# Policy mapping defines an action\n",
    "# to be taken for each state in the\n",
    "# environment\n",
    "# In the grid world, these actions are to move:\n",
    "#   U = Up \n",
    "#   D = Down\n",
    "#   L = Left, \n",
    "#   R = Right, \n",
    "#   N = Not Applicable (Invalid/End States)\n",
    "policy = [['U', 'U', 'U', 'N'],\n",
    "          ['U', 'N', 'U', 'N'],\n",
    "          ['U', 'U', 'U', 'U']]"
   ]
  },
  {
   "cell_type": "code",
   "execution_count": 10,
   "metadata": {
    "collapsed": false
   },
   "outputs": [],
   "source": [
    "# Return the best action to take\n",
    "# from the current state\n",
    "# given the current value-function and world\n",
    "def best_action(xx, yy, utility, world):\n",
    "    \n",
    "    # No applicable action if the state puts us in a blocked\n",
    "    # or ending position\n",
    "    if(world[xx][yy] == 'B' or world[xx][yy] == 'W' or world[xx][yy] == 'L' ):\n",
    "        return 'N'\n",
    "    \n",
    "    # Get the utility from moving up\n",
    "    # which inludes failures going left and right\n",
    "    # Any other state contributes 0 to the utility\n",
    "    # Because they have probability of 0\n",
    "    up_utility = prob_action_success * action_utility(xx, yy, -1, 0, utility, world)\n",
    "    up_utility = up_utility + (1 - prob_action_success)/2 * action_utility(xx, yy, 0, -1, utility, world)\n",
    "    up_utility = up_utility + (1 - prob_action_success)/2 * action_utility(xx, yy, 0, 1, utility, world)\n",
    "    \n",
    "    # Get the utility from moving down\n",
    "    # which inludes failures going left and right\n",
    "    # Any other state contributes 0 to the utility\n",
    "    # Because they have probability of 0\n",
    "    down_utility = prob_action_success * action_utility(xx, yy, 1, 0, utility, world) \n",
    "    down_utility = down_utility + (1 - prob_action_success)/2 * action_utility(xx, yy, 0, -1, utility, world)\n",
    "    down_utility = down_utility + (1 - prob_action_success)/2 * action_utility(xx, yy, 0, 1, utility, world)\n",
    "\n",
    "    # Get the utility from moving left\n",
    "    # which inludes failures going up and down\n",
    "    # Any other state contributes 0 to the utility\n",
    "    # Because they have probability of 0\n",
    "    left_utility = prob_action_success * action_utility(xx, yy, 0, -1, utility, world) \n",
    "    left_utility = left_utility + (1 - prob_action_success)/2 * action_utility(xx, yy, -1, 0, utility, world)\n",
    "    left_utility = left_utility + (1 - prob_action_success)/2 * action_utility(xx, yy, 1, 0, utility, world)\n",
    "    \n",
    "    # Get the utility from moving right\n",
    "    # which inludes failures going up and down\n",
    "    # Any other state contributes 0 to the utility\n",
    "    # Because they have probability of 0\n",
    "    right_utility = prob_action_success * action_utility(xx, yy, 0, 1, utility, world) \n",
    "    right_utility = right_utility + (1 - prob_action_success)/2 * action_utility(xx, yy, -1, 0, utility, world)\n",
    "    right_utility = right_utility + (1 - prob_action_success)/2 * action_utility(xx, yy, 1, 0, utility, world)\n",
    "\n",
    "    # Initialize the best action\n",
    "    # to be the first action (Up)\n",
    "    best_action = 'U'\n",
    "    \n",
    "    # Set the maximum utility\n",
    "    # from any action to up's utility\n",
    "    max_utility = up_utility\n",
    "    \n",
    "    # If moving down has more utility\n",
    "    if(down_utility > max_utility):\n",
    "        \n",
    "        # Set the best action to Down\n",
    "        max_utility = down_utility\n",
    "        best_action = 'D'\n",
    "    \n",
    "    # If moving left has more utility\n",
    "    if(left_utility > max_utility):\n",
    "        \n",
    "        # Set the best action to Left\n",
    "        max_utility = left_utility\n",
    "        best_action = 'L'\n",
    "    \n",
    "    #If moving right has the best utility\n",
    "    if(right_utility > max_utility):\n",
    "        # Set the best action to Right\n",
    "        max_utility = right_utility\n",
    "        best_action = 'R'\n",
    "        \n",
    "    # Return the action that maximizes utility\n",
    "    return best_action"
   ]
  },
  {
   "cell_type": "code",
   "execution_count": 11,
   "metadata": {
    "collapsed": false
   },
   "outputs": [],
   "source": [
    "# Updates the policy with the actions \n",
    "# that provide the best utility for each state\n",
    "def update_policy(policy, world, utility):\n",
    "    for xx in range(3):\n",
    "        for yy in range(4):\n",
    "            policy[xx][yy] = best_action(xx, yy, utility, world)"
   ]
  },
  {
   "cell_type": "markdown",
   "metadata": {},
   "source": [
    "#### 2.2.7. Running the Algorithm"
   ]
  },
  {
   "cell_type": "code",
   "execution_count": 12,
   "metadata": {
    "collapsed": false
   },
   "outputs": [],
   "source": [
    "# Performs a number of iterations\n",
    "# of the value iteration algorithm\n",
    "def value_iteration(iterations):\n",
    "    \n",
    "    # For the number of iterations\n",
    "    for xx in range(iterations):\n",
    "        \n",
    "        # Update the value function\n",
    "        update_all_utility(utility, world)\n",
    "        # Update the policy\n",
    "        update_policy(policy, world, utility)\n",
    "    \n",
    "    # Print out the value function\n",
    "    for xx in range(3):\n",
    "        print utility[xx]\n",
    "    print\n",
    "\n",
    "    # Print out the policy\n",
    "    for xx in range(3):\n",
    "        print policy[xx]"
   ]
  },
  {
   "cell_type": "markdown",
   "metadata": {},
   "source": [
    "Now examine how the algorithm updates the value function and policy by varying the number of iterations."
   ]
  },
  {
   "cell_type": "code",
   "execution_count": 13,
   "metadata": {
    "collapsed": false
   },
   "outputs": [
    {
     "name": "stdout",
     "output_type": "stream",
     "text": [
      "[0.0, 0.0, 0.0, 1.0]\n",
      "[0.0, 0.0, 0.0, -1.0]\n",
      "[0.0, 0.0, 0.0, 0.0]\n",
      "\n",
      "['U', 'U', 'R', 'N']\n",
      "['U', 'N', 'L', 'N']\n",
      "['U', 'U', 'U', 'D']\n"
     ]
    },
    {
     "data": {
      "text/plain": [
       "<function __main__.interactive_iteration>"
      ]
     },
     "execution_count": 13,
     "metadata": {},
     "output_type": "execute_result"
    }
   ],
   "source": [
    "# Function that will reset the utility values\n",
    "# and then perform a number of iterations of\n",
    "# the value iteration approach\n",
    "def interactive_iteration(iterations=1):\n",
    "    reset_util(utility)\n",
    "    value_iteration(iterations)\n",
    "\n",
    "# Create an interactive slider for \n",
    "# the number of iterations\n",
    "interact(interactive_iteration, iterations=(0, 100, 1))"
   ]
  },
  {
   "cell_type": "markdown",
   "metadata": {},
   "source": [
    "#### 2.2.8. Playing with Parameters"
   ]
  },
  {
   "cell_type": "markdown",
   "metadata": {},
   "source": [
    "#### Reward Values"
   ]
  },
  {
   "cell_type": "code",
   "execution_count": 14,
   "metadata": {
    "collapsed": false
   },
   "outputs": [
    {
     "name": "stdout",
     "output_type": "stream",
     "text": [
      "[1.0, 1.0, 1.0, 1.0]\n",
      "[1.0, 0.0, 0.9999999999999998, -1.0]\n",
      "[1.0, 1.0, 1.0, 0.9999999999999992]\n",
      "\n",
      "['U', 'U', 'U', 'N']\n",
      "['U', 'N', 'L', 'N']\n",
      "['U', 'U', 'L', 'D']\n"
     ]
    },
    {
     "data": {
      "text/plain": [
       "<function __main__.interactive_iteration>"
      ]
     },
     "execution_count": 14,
     "metadata": {},
     "output_type": "execute_result"
    }
   ],
   "source": [
    "# Function that will reset the utility values\n",
    "# and then perform the value iteration \n",
    "# approach with the parameters\n",
    "def interactive_iteration(winning_reward=1.0,\n",
    "                          losing_reward=-1.0,\n",
    "                          intermediate_reward=0.0,\n",
    "                          iterations=1000):\n",
    "    # Reward for entering the win state\n",
    "    rewards['W'] = winning_reward  \n",
    "    # Reward for entering the lose state\n",
    "    rewards['L'] = losing_reward\n",
    "    # Reward for entering an open location\n",
    "    rewards['O'] = intermediate_reward\n",
    "    reset_util(utility)\n",
    "    value_iteration(iterations)\n",
    "    \n",
    "# Create interactive sliders for \n",
    "# the rward values\n",
    "interact(interactive_iteration, winning_reward=(0.0, 1.0, 0.05),\n",
    "                                losing_reward=(-1.0, 0.0, 0.05),\n",
    "                                intermediate_reward=(-1.0, 1.0, 0.05),\n",
    "                                iterations=(0,1000,10))"
   ]
  },
  {
   "cell_type": "markdown",
   "metadata": {},
   "source": [
    "#### Discount Factor"
   ]
  },
  {
   "cell_type": "code",
   "execution_count": 15,
   "metadata": {
    "collapsed": false
   },
   "outputs": [
    {
     "name": "stdout",
     "output_type": "stream",
     "text": [
      "[1.0, 1.0, 1.0, 1.0]\n",
      "[1.0, 0.0, 0.9999999999999998, -1.0]\n",
      "[1.0, 1.0, 1.0, 0.9999999999999992]\n",
      "\n",
      "['U', 'U', 'U', 'N']\n",
      "['U', 'N', 'L', 'N']\n",
      "['U', 'U', 'L', 'D']\n"
     ]
    },
    {
     "data": {
      "text/plain": [
       "<function __main__.interactive_iteration>"
      ]
     },
     "execution_count": 15,
     "metadata": {},
     "output_type": "execute_result"
    }
   ],
   "source": [
    "# Function that will reset the utility values\n",
    "# and then perform the value iteration \n",
    "# approach with the parameters\n",
    "def interactive_iteration(discount=1.0,\n",
    "                          winning_reward=1.0,\n",
    "                          losing_reward=-1.0,\n",
    "                          intermediate_reward=0.0,\n",
    "                          iterations=1000):\n",
    "    # Reward for entering the win state\n",
    "    rewards['W'] = winning_reward  \n",
    "    # Reward for entering the lose state\n",
    "    rewards['L'] = losing_reward\n",
    "    # Reward for entering an open location\n",
    "    rewards['O'] = intermediate_reward\n",
    "    global discount_factor\n",
    "    discount_factor = discount\n",
    "    reset_util(utility)\n",
    "    value_iteration(iterations)\n",
    "    \n",
    "# Create interactive sliders for \n",
    "# the rward values\n",
    "interact(interactive_iteration, discount=(0.0, 1.0, 0.05),\n",
    "                                winning_reward=(0.0, 1.0, 0.05),\n",
    "                                losing_reward=(-1.0, 0.0, 0.05),\n",
    "                                intermediate_reward=(-1.0, 1.0, 0.05),\n",
    "                                iterations=(0,1000,10))"
   ]
  },
  {
   "cell_type": "markdown",
   "metadata": {},
   "source": [
    "#### Transition Probabilities"
   ]
  },
  {
   "cell_type": "code",
   "execution_count": 16,
   "metadata": {
    "collapsed": false
   },
   "outputs": [
    {
     "name": "stdout",
     "output_type": "stream",
     "text": [
      "[0.5120000000000001, 0.6400000000000001, 0.8, 1.0]\n",
      "[0.40960000000000013, 0.0, 0.6400000000000001, -1.0]\n",
      "[0.32768000000000014, 0.40960000000000013, 0.5120000000000001, 0.40960000000000013]\n",
      "\n",
      "['R', 'R', 'R', 'N']\n",
      "['U', 'N', 'U', 'N']\n",
      "['U', 'R', 'U', 'L']\n"
     ]
    },
    {
     "data": {
      "text/plain": [
       "<function __main__.interactive_iteration>"
      ]
     },
     "execution_count": 16,
     "metadata": {},
     "output_type": "execute_result"
    }
   ],
   "source": [
    "# Function that will reset the utility values\n",
    "# and then perform the value iteration \n",
    "# approach with the parameters\n",
    "def interactive_iteration(success=1.0,\n",
    "                          discount=0.8,\n",
    "                          winning_reward=1.0,\n",
    "                          losing_reward=-1.0,\n",
    "                          intermediate_reward=0.0,\n",
    "                          iterations=1000):\n",
    "    # Reward for entering the win state\n",
    "    rewards['W'] = winning_reward  \n",
    "    # Reward for entering the lose state\n",
    "    rewards['L'] = losing_reward\n",
    "    # Reward for entering an open location\n",
    "    rewards['O'] = intermediate_reward\n",
    "    global discount_factor\n",
    "    discount_factor = discount\n",
    "    global prob_action_success\n",
    "    prob_action_success = success\n",
    "    reset_util(utility)\n",
    "    value_iteration(iterations)\n",
    "    \n",
    "# Create interactive sliders for \n",
    "# the rward values\n",
    "interact(interactive_iteration, success=(0.0, 1.0, 0.05),\n",
    "                                discount=(0.0, 1.0, 0.05),\n",
    "                                winning_reward=(0.0, 1.0, 0.05),\n",
    "                                losing_reward=(-1.0, 0.0, 0.05),\n",
    "                                intermediate_reward=(-1.0, 1.0, 0.05),\n",
    "                                iterations=(0,1000,10))"
   ]
  },
  {
   "cell_type": "markdown",
   "metadata": {},
   "source": [
    "#### 2.3a.1 Interacting with the World"
   ]
  },
  {
   "cell_type": "code",
   "execution_count": 17,
   "metadata": {
    "collapsed": false
   },
   "outputs": [],
   "source": [
    "# Starting state\n",
    "# Represents the row and column\n",
    "# the agent starts at in the grid world\n",
    "start_x = 2\n",
    "start_y = 0\n",
    "\n",
    "# Current state\n",
    "# Represents the row and column\n",
    "# the agent is currently at in the grid world\n",
    "# Initialized to the start state\n",
    "cur_x = start_x\n",
    "cur_y = start_y"
   ]
  },
  {
   "cell_type": "code",
   "execution_count": 18,
   "metadata": {
    "collapsed": false
   },
   "outputs": [],
   "source": [
    "# Function that performs an action\n",
    "# in the grid world and then returns\n",
    "# the new state\n",
    "# Available actions are (U)p, (D)own, (L)eft, and (R)ight\n",
    "def perform_action(xx, yy, action):\n",
    "    \n",
    "    # If in any of these states, cannot move from them (Blocked, Win, Lost)\n",
    "    if(world[xx][yy] == 'B' or world[xx][yy] == 'W' or world[xx][yy] == 'L'):\n",
    "        # Reamin at current location\n",
    "        return xx,yy\n",
    "    \n",
    "    # Determine if move does not succeed with given probability\n",
    "    if(random.uniform(0, 1) > prob_action_success):\n",
    "        \n",
    "        # If original action is up or down, \n",
    "        # change the action to left on failure\n",
    "        if(action == 'U' or action == 'D'):\n",
    "            action = 'L'\n",
    "        \n",
    "        # Else original action is left or right\n",
    "        # change the action to up\n",
    "        else:\n",
    "            action = 'U'\n",
    "        \n",
    "        # Flip the direction of the failure\n",
    "        # with equal probability (e.g. either\n",
    "        # fail left/right, or up/down)\n",
    "        if(random.uniform(0, 1) < 0.5):\n",
    "            # Reverse directions\n",
    "            if(action == 'U'):\n",
    "                action = 'D'\n",
    "            else:\n",
    "                action = 'R'\n",
    "    \n",
    "    # Set the new state values\n",
    "    # to the current state values\n",
    "    new_x = xx\n",
    "    new_y = yy\n",
    "    \n",
    "    # Perform the movement by\n",
    "    # adding/substracting from\n",
    "    # appropriate state variables\n",
    "    if(action == 'U'):\n",
    "        new_x = new_x - 1\n",
    "    elif(action == 'D'):\n",
    "        new_x = new_x + 1\n",
    "    elif(action == 'L'):\n",
    "        new_y = new_y - 1\n",
    "    elif(action == 'R'):\n",
    "        new_y = new_y + 1\n",
    "    \n",
    "    # If the new state is out of bounds, \n",
    "    # or trying to move to a blocked location\n",
    "    # return the original state\n",
    "    if(new_y < 0 or new_y > 3 or new_x < 0 or new_x > 2):\n",
    "        return xx,yy\n",
    "    if(world[new_x][new_y] == 'B'):\n",
    "        return xx,yy\n",
    "    \n",
    "    # Return the new state\n",
    "    return new_x,new_y"
   ]
  },
  {
   "cell_type": "markdown",
   "metadata": {},
   "source": [
    "#### 2.3a.2 The Q-Table"
   ]
  },
  {
   "cell_type": "code",
   "execution_count": 19,
   "metadata": {
    "collapsed": false
   },
   "outputs": [],
   "source": [
    "# Q-table that contains the\n",
    "# approximation of the state-action \n",
    "# value function\n",
    "q_values = {}\n",
    "\n",
    "# Each action maps to a matrix of values\n",
    "# that represent the value of taking\n",
    "# that action in a particular state\n",
    "# Thus, q_values['U'][1][3] returns the\n",
    "# approximate reward for moving Up\n",
    "# when in the 1st row, 3rd column\n",
    "q_values['U'] = [[0, 0, 0, 0],\n",
    "                [0, 0, 0, 0],\n",
    "                [0, 0, 0, 0]]\n",
    "q_values['D'] = [[0, 0, 0, 0],\n",
    "                [0, 0, 0, 0],\n",
    "                [0, 0, 0, 0]]\n",
    "q_values['L'] = [[0, 0, 0, 0],\n",
    "                [0, 0, 0, 0],\n",
    "                [0, 0, 0, 0]]\n",
    "q_values['R'] = [[0, 0, 0, 0],\n",
    "                [0, 0, 0, 0],\n",
    "                [0, 0, 0, 0]]\n",
    "\n",
    "# Function to initialize the q-table\n",
    "# entries to a particular value\n",
    "def init_qtable(init_value):\n",
    "    for xx in range(3):\n",
    "        for yy in range(4):\n",
    "            q_values['U'][xx][yy] = init_value\n",
    "            q_values['D'][xx][yy] = init_value\n",
    "            q_values['L'][xx][yy] = init_value\n",
    "            q_values['R'][xx][yy] = init_value"
   ]
  },
  {
   "cell_type": "markdown",
   "metadata": {},
   "source": [
    "#### 2.3a.3 Choosing Actions"
   ]
  },
  {
   "cell_type": "code",
   "execution_count": 20,
   "metadata": {
    "collapsed": false
   },
   "outputs": [],
   "source": [
    "# Rate of selecting action at random, \n",
    "# rather than greedy selection\n",
    "epsilon = 0.1\n",
    "\n",
    "# Chooses an action through the epsilon greedy approach\n",
    "def choose_action(xx, yy, q_table):\n",
    "    \n",
    "    # If we choose at random\n",
    "    if(random.uniform(0,1) < epsilon):\n",
    "        # Select Up, Down, Left, or Right\n",
    "        # in a uniform random manner\n",
    "        selection = random.uniform(0,1)\n",
    "        if(selection < 0.25):\n",
    "           return 'U'\n",
    "        elif(selection < 0.5):\n",
    "           return 'R'\n",
    "        elif(selection < 0.75):\n",
    "           return 'D'\n",
    "        else:\n",
    "            return 'L'\n",
    "        \n",
    "    # Else select the best action possible (greedy)\n",
    "    return best_action(xx, yy, q_table)"
   ]
  },
  {
   "cell_type": "code",
   "execution_count": 21,
   "metadata": {
    "collapsed": false
   },
   "outputs": [],
   "source": [
    "# Selects the best action \n",
    "# at the given state through the given q-table\n",
    "def best_action(xx, yy, q_table):\n",
    "    best = 'U'\n",
    "    if(q_table[best][xx][yy] < q_table['R'][xx][yy]):\n",
    "        best = 'R'\n",
    "    if(q_table[best][xx][yy] < q_table['D'][xx][yy]):\n",
    "        best = 'D'\n",
    "    if(q_table[best][xx][yy] < q_table['L'][xx][yy]):\n",
    "        best = 'L'\n",
    "    return best"
   ]
  },
  {
   "cell_type": "markdown",
   "metadata": {},
   "source": [
    "#### 2.3a.4 Updating the Q-values"
   ]
  },
  {
   "cell_type": "code",
   "execution_count": 22,
   "metadata": {
    "collapsed": false
   },
   "outputs": [],
   "source": [
    "# Learning rate of (alpha) Q-Learning\n",
    "learning_rate = 0.9\n",
    "# Discount factor (gamma) applied to future rewards\n",
    "discount_factor = 0.9\n",
    "\n",
    "# Updates the Q-table given the current state, action taken,\n",
    "# and the next state according the the learning rate\n",
    "# and discoutn factor\n",
    "def update_q_table(q_table, xx1, yy1, action, xx2, yy2):    \n",
    "    \n",
    "    # If it is a final state\n",
    "    if(world[xx1][yy1] != 'O'):\n",
    "        # The q-value is simply the reward\n",
    "        q_table[action][xx1][yy1] = rewards[world[xx1][yy1]]\n",
    "        return\n",
    "    \n",
    "    # Find the optimal action of the next state\n",
    "    best = best_action(xx2, yy2, q_table)\n",
    "    \n",
    "    # Find the update value for the Q value\n",
    "    update = learning_rate * (rewards[world[xx1][yy1]] + discount_factor * q_table[best][xx2][yy2] - q_table[action][xx1][yy1])\n",
    "    \n",
    "    # Update the Q value for the action at the original state\n",
    "    q_table[action][xx1][yy1] = q_table[action][xx1][yy1] + update"
   ]
  },
  {
   "cell_type": "markdown",
   "metadata": {},
   "source": [
    "#### 2.3a.5 Deriving Policy from Q-values"
   ]
  },
  {
   "cell_type": "code",
   "execution_count": 23,
   "metadata": {
    "collapsed": false
   },
   "outputs": [],
   "source": [
    "# Updates the optimal policy with the optimal actions given the Q-values\n",
    "def update_policy(policy, q_values):\n",
    "    for xx in range(3):\n",
    "        for yy in range(4):\n",
    "            policy[xx][yy] = 'N'\n",
    "            if(world[xx][yy] == 'O'):\n",
    "                policy[xx][yy] = best_action(xx,yy,q_values)"
   ]
  },
  {
   "cell_type": "markdown",
   "metadata": {},
   "source": [
    "#### 2.3a.5 Assembling the Q-Learning Algorithm"
   ]
  },
  {
   "cell_type": "code",
   "execution_count": 24,
   "metadata": {
    "collapsed": false
   },
   "outputs": [],
   "source": [
    "# This function performs q-learning\n",
    "# for a given number of iterations\n",
    "def q_learn(iterations):\n",
    "  \n",
    "    cur_x = start_x\n",
    "    cur_y = start_y\n",
    "    \n",
    "    # For the number of iterations\n",
    "    for ii in range(iterations): \n",
    "        \n",
    "        # Choose an action (epsilon greedy)\n",
    "        action = choose_action(cur_x, cur_y, q_values)\n",
    "        \n",
    "        # Perform the action and move to the new state\n",
    "        new_x, new_y = perform_action(cur_x, cur_y, action)\n",
    "        \n",
    "        # Update the Q-table\n",
    "        update_q_table(q_values, cur_x, cur_y, action, new_x, new_y)\n",
    "        \n",
    "        # If in the end state, reset to the starting state\n",
    "        if(cur_x == new_x and cur_y == new_y and world[cur_x][cur_y] != 'O'):\n",
    "            new_x = start_x\n",
    "            new_y = start_y\n",
    "            \n",
    "            \n",
    "        # Set the current state to the new state\n",
    "        cur_x,cur_y = new_x,new_y"
   ]
  },
  {
   "cell_type": "markdown",
   "metadata": {},
   "source": [
    "#### 2.3a.6 Playing with Parameters"
   ]
  },
  {
   "cell_type": "markdown",
   "metadata": {},
   "source": [
    "There are two new parameters introduced into the Q-Learning paradigm: The learning rate, $\\alpha$, and the randomness parameter, $\\epsilon$. Change epsilon to accelerate the rate of exploration and the learning rate to change how quickly the Q values update with new information.  Other paramters from the value iteration approach remain and can have significant effect on Q-Learning.  Explore these interactions below."
   ]
  },
  {
   "cell_type": "code",
   "execution_count": 25,
   "metadata": {
    "collapsed": false
   },
   "outputs": [
    {
     "name": "stdout",
     "output_type": "stream",
     "text": [
      "Up\n",
      "[0.621859537540582, 0.714952209582199, 0.7936105382351634, 1.0]\n",
      "[0.5946769994279927, 1.0, 0.355263412612579, -1.0]\n",
      "[0.5130052798895135, 0.4993956018359645, 0.5057558203007874, 0.14097656249999996]\n",
      "\n",
      "Down\n",
      "[0.6277221333794637, 0.7210168254632072, 0.7861713543589691, 1.0]\n",
      "[0.5427913904351125, 1.0, 0.29473396134991925, -1.0]\n",
      "[0.5191610734265535, 0.4937339998967918, 0.5102737631933609, 0.38956473208561687]\n",
      "\n",
      "Left\n",
      "[0.6257708156217959, 0.7057587772371022, 0.7654121356407445, 1.0]\n",
      "[0.5434161177172525, 1.0, 0.46193908894933183, -1.0]\n",
      "[0.5083086951364864, 0.49531969988411373, 0.504203827563532, 0.29399569543482196]\n",
      "\n",
      "Right\n",
      "[0.688037746655844, 0.803814956070581, 0.8990541944849713, 1.0]\n",
      "[0.5436050989670752, 1.0, 0.12104099121093753, -1.0]\n",
      "[0.5157512387345407, 0.4903070816791288, 0.5024634692746159, 0.31466129038573865]\n",
      "\n",
      "Policy\n",
      "['R', 'R', 'R', 'N']\n",
      "['U', 'N', 'L', 'N']\n",
      "['D', 'U', 'D', 'D']\n"
     ]
    },
    {
     "data": {
      "text/plain": [
       "<function __main__.interactive_iteration>"
      ]
     },
     "execution_count": 25,
     "metadata": {},
     "output_type": "execute_result"
    }
   ],
   "source": [
    "# Function that will reset the utility values\n",
    "# and then perform the value iteration \n",
    "# approach with the parameters\n",
    "def interactive_iteration(learning = 0.25,\n",
    "                          randomness = 0.1,\n",
    "                          success=0.85,\n",
    "                          discount=0.9,\n",
    "                          winning_reward=1.0,\n",
    "                          losing_reward=-1.0,\n",
    "                          intermediate_reward=0.0,\n",
    "                          iterations=1000):\n",
    "    global learning_rate\n",
    "    learning_rate = learning\n",
    "    global epsilon\n",
    "    epsilon = randomness\n",
    "    # Reward for entering the win state\n",
    "    rewards['W'] = winning_reward  \n",
    "    # Reward for entering the lose state\n",
    "    rewards['L'] = losing_reward\n",
    "    # Reward for entering an open location\n",
    "    rewards['O'] = intermediate_reward\n",
    "    global discount_factor\n",
    "    discount_factor = discount\n",
    "    global prob_action_success\n",
    "    prob_action_success = success\n",
    "    \n",
    "    # Initializes the Q-table to be all 1's\n",
    "    init_qtable(1.0)\n",
    "\n",
    "    # Performs Q-Learning for iterations\n",
    "    q_learn(iterations)\n",
    "\n",
    "    # Updates the policy based on the Q-table\n",
    "    update_policy(policy, q_values)\n",
    "\n",
    "    # Print the Q-values for each action\n",
    "    print 'Up'\n",
    "    for xx in range(3):\n",
    "        print q_values['U'][xx]\n",
    "    print\n",
    "    print 'Down'\n",
    "    for xx in range(3):\n",
    "        print q_values['D'][xx]\n",
    "    print\n",
    "    print 'Left'\n",
    "    for xx in range(3):\n",
    "        print q_values['L'][xx]\n",
    "    print\n",
    "    print 'Right'\n",
    "    for xx in range(3):\n",
    "        print q_values['R'][xx]\n",
    "    print\n",
    "\n",
    "    # Print out the policy\n",
    "    print 'Policy'\n",
    "    for xx in range(3):\n",
    "        print policy[xx]   \n",
    "    \n",
    "# Create interactive sliders for \n",
    "# the rward values\n",
    "interact(interactive_iteration, learning=(0.0, 1.0, 0.05),\n",
    "                                randomness=(0.0, 1.0, 0.05),\n",
    "                                success=(0.0, 1.0, 0.05),\n",
    "                                discount=(0.0, 1.0, 0.05),\n",
    "                                winning_reward=(0.0, 1.0, 0.05),\n",
    "                                losing_reward=(-1.0, 0.0, 0.05),\n",
    "                                intermediate_reward=(-1.0, 1.0, 0.05),\n",
    "                                iterations=(0,10000,10))"
   ]
  },
  {
   "cell_type": "code",
   "execution_count": 26,
   "metadata": {
    "collapsed": false
   },
   "outputs": [],
   "source": [
    "# Updates the Q-table given the current state, action taken, and the next state\n",
    "def update_q_table_sarsa(q_table, xx1, yy1, action1, xx2, yy2, action2):    \n",
    "    \n",
    "    # If in a final state\n",
    "    if(world[xx1][yy1] != 'O'):\n",
    "        # Q-value is the reward\n",
    "        q_table[action1][xx1][yy1] = rewards[world[xx1][yy1]]\n",
    "        return\n",
    "    \n",
    "    # Find the update value for the Q value\n",
    "    update = learning_rate * (rewards[world[xx1][yy1]] + discount_factor * q_table[action2][xx2][yy2] - q_table[action1][xx1][yy1])\n",
    "    \n",
    "    # Update the Q value for the action at the original state\n",
    "    q_table[action1][xx1][yy1] = q_table[action1][xx1][yy1] + update"
   ]
  },
  {
   "cell_type": "code",
   "execution_count": 27,
   "metadata": {
    "collapsed": false
   },
   "outputs": [],
   "source": [
    "# This function performs SARSA\n",
    "# for a given number of iterations\n",
    "def sarsa(iterations):\n",
    "  \n",
    "    cur_x = start_x\n",
    "    cur_y = start_y\n",
    "    prev_x = start_x\n",
    "    prev_y = start_y\n",
    "    prev_action = -1\n",
    "        \n",
    "    # For the number of iterations\n",
    "    for ii in range(iterations): \n",
    "        \n",
    "        # Choose an action (epsilon greedy)\n",
    "        next_action = choose_action(cur_x, cur_y, q_values)\n",
    "        \n",
    "        if(prev_action != -1):\n",
    "            # Update the Q-table\n",
    "            update_q_table_sarsa(q_values, prev_x, prev_y, prev_action, cur_x, cur_y, next_action)\n",
    "      \n",
    "        \n",
    "        # Perform the action and move to the new state\n",
    "        new_x, new_y = perform_action(cur_x, cur_y, next_action)\n",
    "        \n",
    "        # If in the end state, reset to the starting state\n",
    "        if(cur_x == new_x and cur_y == new_y and world[cur_x][cur_y] != 'O'):\n",
    "            new_x = start_x\n",
    "            new_y = start_y\n",
    "            prev_action = -1\n",
    "        \n",
    "        # Set the current state to the new state\n",
    "        prev_action = next_action\n",
    "        prev_x,prev_y = cur_x,cur_y\n",
    "        cur_x,cur_y = new_x,new_y"
   ]
  },
  {
   "cell_type": "code",
   "execution_count": 28,
   "metadata": {
    "collapsed": false
   },
   "outputs": [
    {
     "name": "stdout",
     "output_type": "stream",
     "text": [
      "Up\n",
      "[0.45339651514206036, 0.5308122407917384, 0.6176122689699697, 1.0]\n",
      "[0.3731150319648532, 1.0, 0.39627113486589405, -1.0]\n",
      "[0.30472168195933386, 0.33361273011970716, 0.3391667127960812, 0.13364684118549383]\n",
      "\n",
      "Down\n",
      "[0.4475188008706931, 0.5117324366319225, 0.5377367040616423, 1.0]\n",
      "[0.3563372887100199, 1.0, 0.306791100712437, -1.0]\n",
      "[0.3016427549986527, 0.32005371618029266, 0.33925446760340894, 0.3062482469113198]\n",
      "\n",
      "Left\n",
      "[0.45091561186589535, 0.5379982238941952, 0.6671920703578803, 1.0]\n",
      "[0.3592481336113023, 1.0, 0.3019400241066775, -1.0]\n",
      "[0.2957356495274001, 0.32869921054910306, 0.34496971704483986, 0.3096317217370775]\n",
      "\n",
      "Right\n",
      "[0.4536782841983616, 0.5650159484079366, 0.7462270586451809, 1.0]\n",
      "[0.3542268333324606, 1.0, 0.0466827485624797, -1.0]\n",
      "[0.29483415449569755, 0.33677142535128013, 0.34523401478512356, 0.30191208337238584]\n",
      "\n",
      "Policy\n",
      "['R', 'R', 'R', 'N']\n",
      "['U', 'N', 'U', 'N']\n",
      "['U', 'R', 'R', 'L']\n"
     ]
    },
    {
     "data": {
      "text/plain": [
       "<function __main__.interactive_iteration>"
      ]
     },
     "execution_count": 28,
     "metadata": {},
     "output_type": "execute_result"
    }
   ],
   "source": [
    "# Function that will reset the utility values\n",
    "# and then perform the value iteration \n",
    "# approach with the parameters\n",
    "def interactive_iteration(learning = 0.2,\n",
    "                          randomness = 0.1,\n",
    "                          success=0.85,\n",
    "                          discount=0.8,\n",
    "                          winning_reward=1.0,\n",
    "                          losing_reward=-1.0,\n",
    "                          intermediate_reward=0.0,\n",
    "                          iterations=1000):\n",
    "    global learning_rate\n",
    "    learning_rate = learning\n",
    "    global epsilon\n",
    "    epsilon = randomness\n",
    "    # Reward for entering the win state\n",
    "    rewards['W'] = winning_reward  \n",
    "    # Reward for entering the lose state\n",
    "    rewards['L'] = losing_reward\n",
    "    # Reward for entering an open location\n",
    "    rewards['O'] = intermediate_reward\n",
    "    global discount_factor\n",
    "    discount_factor = discount\n",
    "    global prob_action_success\n",
    "    prob_action_success = success\n",
    "    \n",
    "    # Initializes the Q-table to be all 1's\n",
    "    init_qtable(1.0)\n",
    "\n",
    "    # Performs Q-Learning for iterations\n",
    "    sarsa(iterations)\n",
    "\n",
    "    # Updates the policy based on the Q-table\n",
    "    update_policy(policy, q_values)\n",
    "\n",
    "    # Print the Q-values for each action\n",
    "    print 'Up'\n",
    "    for xx in range(3):\n",
    "        print q_values['U'][xx]\n",
    "    print\n",
    "    print 'Down'\n",
    "    for xx in range(3):\n",
    "        print q_values['D'][xx]\n",
    "    print\n",
    "    print 'Left'\n",
    "    for xx in range(3):\n",
    "        print q_values['L'][xx]\n",
    "    print\n",
    "    print 'Right'\n",
    "    for xx in range(3):\n",
    "        print q_values['R'][xx]\n",
    "    print\n",
    "\n",
    "    # Print out the policy\n",
    "    print 'Policy'\n",
    "    for xx in range(3):\n",
    "        print policy[xx]   \n",
    "    \n",
    "# Create interactive sliders for \n",
    "# the rward values\n",
    "interact(interactive_iteration, learning=(0.0, 1.0, 0.05),\n",
    "                                randomness=(0.0, 1.0, 0.05),\n",
    "                                success=(0.0, 1.0, 0.05),\n",
    "                                discount=(0.0, 1.0, 0.05),\n",
    "                                winning_reward=(0.0, 1.0, 0.05),\n",
    "                                losing_reward=(-1.0, 0.0, 0.05),\n",
    "                                intermediate_reward=(-1.0, 1.0, 0.05),\n",
    "                                iterations=(0,10000,10))"
   ]
  },
  {
   "cell_type": "markdown",
   "metadata": {},
   "source": [
    "### 3.2 Constructing an Evolutionary Algorithm"
   ]
  },
  {
   "cell_type": "markdown",
   "metadata": {},
   "source": [
    "#### 3.2.1. The Genome"
   ]
  },
  {
   "cell_type": "code",
   "execution_count": 29,
   "metadata": {
    "collapsed": false
   },
   "outputs": [],
   "source": [
    "# Genome class encapsulates information about a genome\n",
    "# including fitness and the genetic representation \n",
    "# of the solution plus useful utility functions\n",
    "class Genome: \n",
    "    # Initializer for new genome instance\n",
    "    def __init__(self, fitness, genes):\n",
    "        # Set the instance's fitness to the given fitness\n",
    "        self.fitness = fitness\n",
    "        # Set the instance's genese to the given genes\n",
    "        self.genes = genes \n",
    "    \n",
    "    # Creates a deep clone of the genome\n",
    "    def clone(self): \n",
    "        # Uses copy's deepcopy function to create a deep copy of this Genome instance\n",
    "        return copy.deepcopy(self) "
   ]
  },
  {
   "cell_type": "markdown",
   "metadata": {},
   "source": [
    "In this case, the genome consists of a fitness value and a set of genes.  For the next few experiments, we will define the set of genes as a single value $x\\in\\mathbb{R}$.  Below, we define a function to generate a new, random genome with $x\\in[-1,1]$."
   ]
  },
  {
   "cell_type": "code",
   "execution_count": 30,
   "metadata": {
    "collapsed": false
   },
   "outputs": [],
   "source": [
    "# Creates and returns a new random genome\n",
    "def new_genome():   \n",
    "    # A random genome for this domain is a real valued number (-1, 1)\n",
    "    return Genome(-10000, random.uniform(-1, 1)) "
   ]
  },
  {
   "cell_type": "markdown",
   "metadata": {},
   "source": [
    "#### 3.2.2. Evaluating Performance"
   ]
  },
  {
   "cell_type": "code",
   "execution_count": 31,
   "metadata": {
    "collapsed": false
   },
   "outputs": [],
   "source": [
    "# Evaluator that returns fitness of the genome\n",
    "def evaluate(genome): \n",
    "    # This fitness is equal to 1 - x^2\n",
    "    genome.fitness = 1.0 - genome.genes * genome.genes "
   ]
  },
  {
   "cell_type": "markdown",
   "metadata": {},
   "source": [
    "#### 3.2.3. (un)Natural Selection"
   ]
  },
  {
   "cell_type": "markdown",
   "metadata": {},
   "source": [
    "#### Selecting Parents"
   ]
  },
  {
   "cell_type": "code",
   "execution_count": 32,
   "metadata": {
    "collapsed": false
   },
   "outputs": [],
   "source": [
    "# Selects the given number of parents from the given population\n",
    "def select_parents(population, number): \n",
    "    \n",
    "    # Initialize an empty list of parents\n",
    "    parents = []  \n",
    "    \n",
    "    # Get the number of individuals in the given population\n",
    "    populationSize = len(population)\n",
    "    \n",
    "    # For the number of parents\n",
    "    for x in range(number): \n",
    "        \n",
    "        # Select a random genome from the population\n",
    "        # with uniform probability to be a parent\n",
    "        parents.append(population[random.randint(populationSize)]) \n",
    "    \n",
    "    # Return the parents list\n",
    "    return parents "
   ]
  },
  {
   "cell_type": "markdown",
   "metadata": {},
   "source": [
    "#### Selecting: The Next Generation"
   ]
  },
  {
   "cell_type": "code",
   "execution_count": 33,
   "metadata": {
    "collapsed": false
   },
   "outputs": [],
   "source": [
    "# Select a new population of individuals from the current and offspring\n",
    "def select_population(currentPopulation, offspring): \n",
    "    \n",
    "    # Get the size of the current population\n",
    "    popSize = len(currentPopulation)\n",
    "    \n",
    "    # Initialize an empty list for the new population\n",
    "    newPopulation = [] \n",
    "    \n",
    "    # Combine the current and offspring populations\n",
    "    currentPopulation.extend(offspring) \n",
    "    \n",
    "    # Get the combined size of current and offspring populations\n",
    "    combinedSize = len(currentPopulation)\n",
    "    \n",
    "    # Until the population for the next generation\n",
    "    # is the size of the current population\n",
    "    # keep selecting genomes\n",
    "    while(len(newPopulation) < popSize): \n",
    "        \n",
    "        # Select an index for the first candidate genome\n",
    "        candidateOneIdx = random.randint(combinedSize)  \n",
    "        # Select an index for the second candidate genome\n",
    "        candidateTwoIdx = random.randint(combinedSize)  \n",
    "        \n",
    "        # If the same index is selected\n",
    "        if(candidateOneIdx == candidateTwoIdx): \n",
    "            # Increment second index by one and make sure it is within bounds\n",
    "            candidateTwoIdx = (candidateTwoIdx + 1)%combinedSize\n",
    "            \n",
    "        # Set the selected genome to the first candidate\n",
    "        selected = currentPopulation[candidateOneIdx]  \n",
    "        \n",
    "        # If the second candidate's fitness is better\n",
    "        # set it to be selected\n",
    "        if(currentPopulation[candidateTwoIdx].fitness > selected.fitness): \n",
    "            selected = currentPopulation[candidateTwoIdx]\n",
    "            \n",
    "        # Add the selected genome to the new population\n",
    "        # and remove it from the pool of candidates\n",
    "        newPopulation.append(selected) \n",
    "        currentPopulation.remove(selected)\n",
    "        \n",
    "        # Decrement the pool count\n",
    "        combinedSize -= 1\n",
    "        \n",
    "    # Return the new population\n",
    "    return newPopulation "
   ]
  },
  {
   "cell_type": "markdown",
   "metadata": {},
   "source": [
    "#### 3.2.4. Creating Offspring"
   ]
  },
  {
   "cell_type": "code",
   "execution_count": 34,
   "metadata": {
    "collapsed": false
   },
   "outputs": [],
   "source": [
    "# Takes in a set of parents and produces \n",
    "# an equivalent number of offspring\n",
    "def reproduce(parents):\n",
    "    \n",
    "    # Initialize an empty list of offspring\n",
    "    offspring = [] \n",
    "    \n",
    "    # For each parent, create a clone\n",
    "    # and mutate the clone\n",
    "    for parent in parents: \n",
    "        \n",
    "        # Clone the parent to produce a child\n",
    "        child = parent.clone() \n",
    "        \n",
    "        # Set its fitness to a very low value\n",
    "        child.fitness = -10000 \n",
    "        \n",
    "        # Mutate the clone child\n",
    "        mutate_genome(child) \n",
    "        \n",
    "        # Add the child to the offspring list\n",
    "        offspring.append(child) \n",
    "        \n",
    "    # Return the list of offspring\n",
    "    return offspring "
   ]
  },
  {
   "cell_type": "code",
   "execution_count": 35,
   "metadata": {
    "collapsed": false
   },
   "outputs": [],
   "source": [
    "# Mutation takes a genome and alters \n",
    "# its genes to create a new solution instance\n",
    "def mutate_genome(genome): \n",
    "    \n",
    "    # This mutatation adds a value between \n",
    "    # -0.01 and 0.01 to the genome's genes\n",
    "    genome.genes += random.uniform(-0.01, 0.01) "
   ]
  },
  {
   "cell_type": "markdown",
   "metadata": {},
   "source": [
    "#### 3.2.5. The Loop of Evolution"
   ]
  },
  {
   "cell_type": "code",
   "execution_count": 36,
   "metadata": {
    "collapsed": false
   },
   "outputs": [],
   "source": [
    "# Function will run a set number of iterations of evolution\n",
    "# with a given population size and number of offspring\n",
    "# to create each generation\n",
    "def evolution(populationSize, offspringSize, maxGenerations):\n",
    "    \n",
    "    # Current generation being executed\n",
    "    currentGeneration = 0 \n",
    "    \n",
    "    # Array to hold generational average fitness values\n",
    "    avgFitnessByGeneration = [] \n",
    "    # Array to hold generational champion fitness values\n",
    "    bestFitnessByGeneration = [] \n",
    "    # Array to hold generational champion values\n",
    "    championValuesByGeneration = [] \n",
    "    \n",
    "    # Initialize an empty population\n",
    "    population = []  \n",
    "    # Set the best genome to a null value\n",
    "    bestGenome = None \n",
    "    \n",
    "    # Initialize variable for calculating population average fitness to 0\n",
    "    avg = 0.0  \n",
    "    \n",
    "    # Create and evaluate an initial population\n",
    "    # of genomes\n",
    "    for x in range(populationSize):\n",
    "        \n",
    "        # Create new random genome and add it to the population\n",
    "        population.append(new_genome())\n",
    "        # Evaluate that new genome\n",
    "        evaluate(population[x]) \n",
    "        # Add its fitness score to the average\n",
    "        avg += population[x].fitness \n",
    "        \n",
    "        # If the best genome hasn't been set, or, this\n",
    "        # genome has better fitness\n",
    "        if(bestGenome is None or population[x].fitness > bestGenome.fitness):  \n",
    "            \n",
    "            # Set the bestGenome to this genome\n",
    "            bestGenome = population[x] \n",
    "    \n",
    "    # Add the metrics to their various arrays for tracking\n",
    "    avgFitnessByGeneration.append(avg/populationSize)\n",
    "    bestFitnessByGeneration.append(bestGenome.fitness)\n",
    "    championValuesByGeneration.append(bestGenome.genes)\n",
    "    \n",
    "    # Until the maxmium number of generations \n",
    "    # is performed\n",
    "    while(currentGeneration < maxGenerations): \n",
    "        \n",
    "        # Select a number of parents equal \n",
    "        # to the number of offspring to be created\n",
    "        parents = select_parents(population, offspringSize)\n",
    "        \n",
    "        # Create a number of offspring by \n",
    "        # reproducing the selected parents\n",
    "        offspring = reproduce(parents) \n",
    "        \n",
    "        # Evaluate each of the offspring\n",
    "        for child in offspring:\n",
    "            \n",
    "            evaluate(child) \n",
    "            \n",
    "            # Update the best genome is applicable\n",
    "            if(child.fitness > bestGenome.fitness): \n",
    "                bestGenome = child\n",
    "        \n",
    "        # Select a new population from the \n",
    "        # current population and offspring\n",
    "        population = select_population(population, offspring) \n",
    "        \n",
    "        # Initialize average to 0\n",
    "        avg = 0.0 \n",
    "        \n",
    "        # Sum the fitness of the population\n",
    "        for genome in population: \n",
    "            avg += genome.fitness \n",
    "   \n",
    "        # Add the metrics to the various arrays\n",
    "        avgFitnessByGeneration.append(avg/populationSize)\n",
    "        bestFitnessByGeneration.append(bestGenome.fitness)\n",
    "        championValuesByGeneration.append(bestGenome.genes)\n",
    "        \n",
    "        # Increment current generation by one\n",
    "        currentGeneration += 1 \n",
    "    \n",
    "    # Evolution Loop Done\n",
    "    \n",
    "    # Plot the best fitness, average fitness, and the champion gene values by generation\n",
    "    labels = range(len(bestFitnessByGeneration))\n",
    "    subplot(2,1,1)\n",
    "    plot(labels, bestFitnessByGeneration, labels, avgFitnessByGeneration)\n",
    "    ylabel(\"Fitness\")\n",
    "    legend([\"Best\", \"Avg.\"], loc='lower center', bbox_to_anchor=(0.5, 1.05),\n",
    "          ncol=3, fancybox=True, shadow=True)\n",
    "    subplot(2,1,2)\n",
    "    plot(labels, championValuesByGeneration)\n",
    "    ylabel(\"Gene Values\")\n",
    "    \n",
    "    # Return the best genome\n",
    "    return bestGenome "
   ]
  },
  {
   "cell_type": "markdown",
   "metadata": {},
   "source": [
    "#### 3.2.6. Test Run"
   ]
  },
  {
   "cell_type": "code",
   "execution_count": 37,
   "metadata": {
    "collapsed": false
   },
   "outputs": [
    {
     "name": "stdout",
     "output_type": "stream",
     "text": [
      "Champion -- Genes = -1.4561887015e-06 Fitness = 0.999999999998\n"
     ]
    },
    {
     "data": {
      "image/png": "[encoded data removed]",
      "text/plain": [
       "<matplotlib.figure.Figure at 0x584f230>"
      ]
     },
     "metadata": {},
     "output_type": "display_data"
    }
   ],
   "source": [
    "# Run evolution with a population of size 1\n",
    "# and creting 1 offspring per generation\n",
    "# for 1000 generations\n",
    "winner = evolution(1, 1, 1000)\n",
    "\n",
    "# Print out the best genome's genese and fitness\n",
    "print(\"Champion -- Genes = \" + str(winner.genes) + \" Fitness = \" + str(winner.fitness))\n"
   ]
  },
  {
   "cell_type": "markdown",
   "metadata": {},
   "source": [
    "### 3.3. Exercises"
   ]
  },
  {
   "cell_type": "markdown",
   "metadata": {},
   "source": [
    "#### 3.3.1. The Evaluation (Fitness) Function"
   ]
  },
  {
   "cell_type": "code",
   "execution_count": 38,
   "metadata": {
    "collapsed": false
   },
   "outputs": [
    {
     "name": "stdout",
     "output_type": "stream",
     "text": [
      "Champion -- Genes = 0.78539584142 Fitness = 0.999996716238\n"
     ]
    },
    {
     "data": {
      "image/png": "[encoded data removed]",
      "text/plain": [
       "<matplotlib.figure.Figure at 0x59fe570>"
      ]
     },
     "metadata": {},
     "output_type": "display_data"
    }
   ],
   "source": [
    "# Function to evaluate a genome's fitness\n",
    "def evaluate(genome):\n",
    "    genome.fitness = 1.0 / (1.0 + abs(math.cos(genome.genes) - math.sin(genome.genes)))\n",
    "\n",
    "winner = evolution(1, 1, 1000)\n",
    "print(\"Champion -- Genes = \" + str(winner.genes) + \" Fitness = \" + str(winner.fitness))"
   ]
  },
  {
   "cell_type": "markdown",
   "metadata": {},
   "source": [
    "#### 3.3.2. Growing the Population"
   ]
  },
  {
   "cell_type": "markdown",
   "metadata": {},
   "source": [
    "#### Population Size ($\\mu$)"
   ]
  },
  {
   "cell_type": "code",
   "execution_count": 39,
   "metadata": {
    "collapsed": false
   },
   "outputs": [
    {
     "name": "stdout",
     "output_type": "stream",
     "text": [
      "Champion -- Genes = 0.785405351252 Fitness = 0.999989834942\n"
     ]
    },
    {
     "data": {
      "text/plain": [
       "<function __main__.interactive_iteration>"
      ]
     },
     "execution_count": 39,
     "metadata": {},
     "output_type": "execute_result"
    },
    {
     "data": {
      "image/png": "[encoded data removed]",
      "text/plain": [
       "<matplotlib.figure.Figure at 0x5a25f90>"
      ]
     },
     "metadata": {},
     "output_type": "display_data"
    }
   ],
   "source": [
    "# Function that will perform evolution \n",
    "# with the given parameters\n",
    "def interactive_iteration(generations=1000,\n",
    "                          mu=1):\n",
    "    if(mu == 0):\n",
    "        mu = 1\n",
    "    winner = evolution(mu, 1, generations)\n",
    "\n",
    "    print(\"Champion -- Genes = \" + str(winner.genes) + \" Fitness = \" + str(winner.fitness))\n",
    "    \n",
    "# Create interactive sliders for parameters\n",
    "interact(interactive_iteration, generations=(0,10000,10),\n",
    "                                mu=(0,1000, 10))"
   ]
  },
  {
   "cell_type": "markdown",
   "metadata": {},
   "source": [
    "#### Offspring Size ($\\lambda$)"
   ]
  },
  {
   "cell_type": "code",
   "execution_count": 40,
   "metadata": {
    "collapsed": false
   },
   "outputs": [
    {
     "name": "stdout",
     "output_type": "stream",
     "text": [
      "Champion -- Genes = 0.78541540472 Fitness = 0.999975617682\n"
     ]
    },
    {
     "data": {
      "text/plain": [
       "<function __main__.interactive_iteration>"
      ]
     },
     "execution_count": 40,
     "metadata": {},
     "output_type": "execute_result"
    },
    {
     "data": {
      "image/png": "[encoded data removed]",
      "text/plain": [
       "<matplotlib.figure.Figure at 0x7ee3cf0>"
      ]
     },
     "metadata": {},
     "output_type": "display_data"
    }
   ],
   "source": [
    "# Function that will perform evolution \n",
    "# with the given parameters\n",
    "def interactive_iteration(generations=1000,\n",
    "                          mu=1,\n",
    "                          lamb=1):\n",
    "    if(mu == 0):\n",
    "        mu = 1\n",
    "    if(lamb == 0):\n",
    "        lamb = 1\n",
    "    winner = evolution(mu, lamb, generations)\n",
    "\n",
    "    print(\"Champion -- Genes = \" + str(winner.genes) + \" Fitness = \" + str(winner.fitness))\n",
    "    \n",
    "# Create interactive sliders for parameters\n",
    "interact(interactive_iteration, generations=(0,10000,10),\n",
    "                                mu=(0,1000, 10),\n",
    "                                lamb=(0,1000, 10))"
   ]
  },
  {
   "cell_type": "markdown",
   "metadata": {},
   "source": [
    "#### Exercise: Explore the interaction between $\\mu$ and $\\lambda$"
   ]
  },
  {
   "cell_type": "code",
   "execution_count": 41,
   "metadata": {
    "collapsed": false
   },
   "outputs": [
    {
     "name": "stdout",
     "output_type": "stream",
     "text": [
      "Champion -- Genes = 2.92080006793 Fitness = 0.238485484497\n"
     ]
    },
    {
     "data": {
      "text/plain": [
       "<function __main__.interactive_iteration>"
      ]
     },
     "execution_count": 41,
     "metadata": {},
     "output_type": "execute_result"
    },
    {
     "data": {
      "image/png": "[encoded data removed]",
      "text/plain": [
       "<matplotlib.figure.Figure at 0x816d0d0>"
      ]
     },
     "metadata": {},
     "output_type": "display_data"
    }
   ],
   "source": [
    "def evaluate(genome):\n",
    "    genome.fitness = math.cos(genome.genes + 3) / (1.0 + abs(genome.genes))\n",
    "    \n",
    "# Create interactive sliders for parameters\n",
    "interact(interactive_iteration, generations=(0,10000,10),\n",
    "                                mu=(0,1000, 10),\n",
    "                                lamb=(0,1000, 10))"
   ]
  },
  {
   "cell_type": "markdown",
   "metadata": {},
   "source": [
    "#### 3.3.3. Selecting the best!"
   ]
  },
  {
   "cell_type": "markdown",
   "metadata": {},
   "source": [
    "#### The Pool of Candidates"
   ]
  },
  {
   "cell_type": "code",
   "execution_count": 42,
   "metadata": {
    "collapsed": false
   },
   "outputs": [],
   "source": [
    "# Select a new population of individuals from the current and offspring\n",
    "def select_population(currentPopulation, offspring): \n",
    "    \n",
    "    # Get the size of the current population\n",
    "    popSize = len(currentPopulation)\n",
    "    \n",
    "    # Initialize an empty list for the new population\n",
    "    newPopulation = [] \n",
    "    \n",
    "    # Combine the current and offspring populations\n",
    "    currentPopulation.extend(offspring) \n",
    "    \n",
    "    # Get the combined size of current and offspring populations\n",
    "    combinedSize = len(currentPopulation)\n",
    "    \n",
    "    # Until the population for the next generation\n",
    "    # is the size of the current population\n",
    "    # keep selecting genomes\n",
    "    while(len(newPopulation) < popSize): \n",
    "        \n",
    "        # Select an index for the first candidate genome\n",
    "        candidateOneIdx = random.randint(combinedSize)  \n",
    "        # Select an index for the second candidate genome\n",
    "        candidateTwoIdx = random.randint(combinedSize)  \n",
    "        \n",
    "        # If the same index is selected\n",
    "        if(candidateOneIdx == candidateTwoIdx): \n",
    "            # Increment second index by one and make sure it is within bounds\n",
    "            candidateTwoIdx = (candidateTwoIdx + 1)%combinedSize\n",
    "            \n",
    "        # Set the selected genome to the first candidate\n",
    "        selected = currentPopulation[candidateOneIdx]  \n",
    "        \n",
    "        # If the second candidate's fitness is better\n",
    "        # set it to be selected\n",
    "        if(currentPopulation[candidateTwoIdx].fitness > selected.fitness): \n",
    "            selected = currentPopulation[candidateTwoIdx]\n",
    "            \n",
    "        # Add the selected genome to the new population\n",
    "        # and remove it from the pool of candidates\n",
    "        newPopulation.append(selected) \n",
    "        currentPopulation.remove(selected)\n",
    "        \n",
    "        # Decrement the pool count\n",
    "        combinedSize -= 1\n",
    "        \n",
    "    # Return the new population\n",
    "    return newPopulation "
   ]
  },
  {
   "cell_type": "code",
   "execution_count": 43,
   "metadata": {
    "collapsed": false
   },
   "outputs": [
    {
     "name": "stdout",
     "output_type": "stream",
     "text": [
      "Champion -- Genes = 2.9173498145 Fitness = 0.238381878276\n"
     ]
    },
    {
     "data": {
      "text/plain": [
       "<function __main__.interactive_iteration>"
      ]
     },
     "execution_count": 43,
     "metadata": {},
     "output_type": "execute_result"
    },
    {
     "data": {
      "image/png": "[encoded data removed]",
      "text/plain": [
       "<matplotlib.figure.Figure at 0x7ec5530>"
      ]
     },
     "metadata": {},
     "output_type": "display_data"
    }
   ],
   "source": [
    "# Create interactive sliders for parameters\n",
    "interact(interactive_iteration, generations=(0,10000,10),\n",
    "                                mu=(0,1000, 10),\n",
    "                                lamb=(0,1000, 10))"
   ]
  },
  {
   "cell_type": "markdown",
   "metadata": {},
   "source": [
    "#### Methods of Selection"
   ]
  },
  {
   "cell_type": "code",
   "execution_count": 44,
   "metadata": {
    "collapsed": true
   },
   "outputs": [],
   "source": [
    "# Select a new population of individuals from the current and offspring\n",
    "def select_population(currentPopulation, offspring): \n",
    "    \n",
    "    # Get the size of the current population\n",
    "    popSize = len(currentPopulation) \n",
    "    \n",
    "    # Initialize an empty list for the new population\n",
    "    newPopulation = [] \n",
    "    \n",
    "    # Combine the current and offspring populations\n",
    "    currentPopulation.extend(offspring) \n",
    "    \n",
    "    # Get the combined size of current and offspring populations\n",
    "    combinedSize = len(currentPopulation)\n",
    "    \n",
    "    # Until we have selected to the population size\n",
    "    while(len(newPopulation) < popSize): \n",
    "        \n",
    "        # Select indicies for the candidate genomes\n",
    "        candidateOneIdx = random.randint(combinedSize)  \n",
    "        candidateTwoIdx = random.randint(combinedSize)  \n",
    "        candidateThreeIdx = random.randint(combinedSize)\n",
    "        \n",
    "        # If all three indicies are the same\n",
    "        if(candidateOneIdx == candidateTwoIdx and candidateOneIdx == candidateThreeIdx):\n",
    "            \n",
    "            # Increment second index by one,\n",
    "            # make sure it is within bounds\n",
    "            # and increment the third index\n",
    "            # by two\n",
    "            candidateTwoIdx = (candidateTwoIdx + 1)%combinedSize \n",
    "            candidateThreeIdx = (candidateThreeIdx + 2)%combinedSize\n",
    "        \n",
    "        # If first and second index are the same\n",
    "        if(candidateOneIdx == candidateTwoIdx): \n",
    "            # Increment second index by one\n",
    "            candidateTwoIdx = (candidateTwoIdx + 1)%combinedSize\n",
    "            \n",
    "        # If first and third index are the same\n",
    "        if(candidateOneIdx == candidateThreeIdx): \n",
    "            # Increment third index by one\n",
    "            candidateThreeIdx = (candidateThreeIdx + 1)%combinedSize\n",
    "            \n",
    "        # If second and third index are the same\n",
    "        if(candidateTwoIdx == candidateThreeIdx): \n",
    "            # Increment third index by one\n",
    "            candidateThreeIdx = (candidateThreeIdx + 1)%combinedSize   \n",
    "        \n",
    "        # Set the selected genome to the first candidate\n",
    "        selected = currentPopulation[candidateOneIdx]  \n",
    "        \n",
    "        # If the second candidate's fitness is better\n",
    "        # Set selected to the second candidate\n",
    "        if(currentPopulation[candidateTwoIdx].fitness > selected.fitness): \n",
    "            selected = currentPopulation[candidateTwoIdx] \n",
    "        \n",
    "        # If the third candidate's fitness is better\n",
    "        # Set selected to the third candidate\n",
    "        if(currentPopulation[candidateThreeIdx].fitness > selected.fitness): \n",
    "            selected = currentPopulation[candidateThreeIdx]\n",
    "            \n",
    "        # Add the selected genome to the new population\n",
    "        newPopulation.append(selected) \n",
    "        # Remove the selected genome from the current population\n",
    "        currentPopulation.remove(selected)\n",
    "        # Decrement the size of the current population by one\n",
    "        combinedSize -= 1 \n",
    "        \n",
    "    # Return the new population    \n",
    "    return newPopulation "
   ]
  },
  {
   "cell_type": "code",
   "execution_count": 45,
   "metadata": {
    "collapsed": false
   },
   "outputs": [
    {
     "name": "stdout",
     "output_type": "stream",
     "text": [
      "Champion -- Genes = 2.59236078169 Fitness = 0.214544406478\n"
     ]
    },
    {
     "data": {
      "text/plain": [
       "<function __main__.interactive_iteration>"
      ]
     },
     "execution_count": 45,
     "metadata": {},
     "output_type": "execute_result"
    },
    {
     "data": {
      "image/png": "[encoded data removed]",
      "text/plain": [
       "<matplotlib.figure.Figure at 0x5aeb350>"
      ]
     },
     "metadata": {},
     "output_type": "display_data"
    }
   ],
   "source": [
    "# Create interactive sliders for parameters\n",
    "interact(interactive_iteration, generations=(0,10000,10),\n",
    "                                mu=(0,1000, 10),\n",
    "                                lamb=(0,1000, 10))"
   ]
  },
  {
   "cell_type": "markdown",
   "metadata": {},
   "source": [
    "#### Selecting Parents"
   ]
  },
  {
   "cell_type": "code",
   "execution_count": 46,
   "metadata": {
    "collapsed": false
   },
   "outputs": [],
   "source": [
    "# Selects the given number of parents from the given population\n",
    "def select_parents(population, number): \n",
    "    \n",
    "    # Initialize an empty list of parents\n",
    "    parents = []  \n",
    "    \n",
    "    # Get the number of individuals in the given population\n",
    "    populationSize = len(population)\n",
    "    \n",
    "    # For the number of parents\n",
    "    for x in range(number): \n",
    "        \n",
    "        # Select a random genome from the population\n",
    "        # with uniform probability to be a parent\n",
    "        parents.append(population[random.randint(populationSize)]) \n",
    "    \n",
    "    # Return the parents list\n",
    "    return parents "
   ]
  },
  {
   "cell_type": "code",
   "execution_count": 47,
   "metadata": {
    "collapsed": true
   },
   "outputs": [],
   "source": [
    "# Selects the given number of parents from the given population\n",
    "def select_parents(population, number):\n",
    "    \n",
    "    # Initialize an empty list of parents\n",
    "    parents = []  \n",
    "    # Get the number of individuals in the given population\n",
    "    populationSize = len(population) \n",
    "    \n",
    "    # For the number of parents\n",
    "    for x in range(number): \n",
    "        \n",
    "        # Select indicies for the candidate parents\n",
    "        candidateOneIdx = random.randint(populationSize)  \n",
    "        candidateTwoIdx = random.randint(populationSize)  \n",
    "        \n",
    "        # Set selected to the first choice\n",
    "        selected = population[candidateOneIdx]\n",
    "        \n",
    "        # If second choice has better fitness\n",
    "        # Set selected to the second choice\n",
    "        if(selected.fitness < population[candidateTwoIdx].fitness): \n",
    "            selected = population[candidateTwoIdx]\n",
    "            \n",
    "        # Add the selected parent\n",
    "        parents.append(selected) \n",
    "        \n",
    "    # Return the parents list\n",
    "    return parents \n",
    "\n",
    "# Select a new population of individuals from the current and offspring\n",
    "def select_population(currentPopulation, offspring):\n",
    "    \n",
    "    # Get the size of the current population\n",
    "    popSize = len(currentPopulation)\n",
    "    # Initialize an empty list for the new population\n",
    "    newPopulation = [] \n",
    "    \n",
    "    # Combine the current and offspring populations\n",
    "    currentPopulation.extend(offspring) \n",
    "    # Get the combined size of current and offspring populations\n",
    "    combinedSize = len(currentPopulation) \n",
    "    \n",
    "    # Until we reach the correct population size\n",
    "    while(len(newPopulation) < popSize):\n",
    "        \n",
    "        # Select index for candidate\n",
    "        candidateOneIdx = random.randint(combinedSize)\n",
    "        \n",
    "        # Get the selected genome\n",
    "        selected = currentPopulation[candidateOneIdx]\n",
    "        \n",
    "        # Add the selected genome to the new population\n",
    "        newPopulation.append(selected) \n",
    "        \n",
    "        # Remove the selected genome from the current population\n",
    "        currentPopulation.remove(selected)\n",
    "        \n",
    "        # Decrement the size of the candidate pool by one\n",
    "        combinedSize -= 1 \n",
    "        \n",
    "    # Return the new population    \n",
    "    return newPopulation "
   ]
  },
  {
   "cell_type": "code",
   "execution_count": 48,
   "metadata": {
    "collapsed": false
   },
   "outputs": [
    {
     "name": "stdout",
     "output_type": "stream",
     "text": [
      "Champion -- Genes = 0.662223882808 Fitness = -0.521894415379\n"
     ]
    },
    {
     "data": {
      "text/plain": [
       "<function __main__.interactive_iteration>"
      ]
     },
     "execution_count": 48,
     "metadata": {},
     "output_type": "execute_result"
    },
    {
     "data": {
      "image/png": "[encoded data removed]",
      "text/plain": [
       "<matplotlib.figure.Figure at 0x5a4e8d0>"
      ]
     },
     "metadata": {},
     "output_type": "display_data"
    }
   ],
   "source": [
    "# Create interactive sliders for parameters\n",
    "interact(interactive_iteration, generations=(0,10000,10),\n",
    "                                mu=(0,1000, 10),\n",
    "                                lamb=(0,1000, 10))"
   ]
  },
  {
   "cell_type": "markdown",
   "metadata": {},
   "source": [
    "#### 3.3.4. Reproduction: Where baby solutions come from..."
   ]
  },
  {
   "cell_type": "code",
   "execution_count": 49,
   "metadata": {
    "collapsed": false
   },
   "outputs": [],
   "source": [
    "# Creates a new genome with two\n",
    "# real-valued numbers are genes\n",
    "# with a range of [-3,3]\n",
    "def new_genome():\n",
    "    \n",
    "    # Initialize genes to an empty list\n",
    "    genes = []  \n",
    "    \n",
    "    # Add one value between -3 and 3 as the first gene\n",
    "    genes.append(random.uniform(-3, 3)) \n",
    "    # Add a second value between -3 and 3 as the second gene\n",
    "    genes.append(random.uniform(-3, 3)) \n",
    "    \n",
    "    # Create a new genome\n",
    "    return Genome(-10000, genes)  \n",
    "\n",
    "# Evaluation of the genome is to\n",
    "# maximize a function of two variables\n",
    "def evaluate(genome):\n",
    "    genome.fitness = -math.log(abs((100*(genome.genes[0]**2 - genome.genes[1])**2 + (1 - genome.genes[0])**2)) + 1)"
   ]
  },
  {
   "cell_type": "markdown",
   "metadata": {},
   "source": [
    "#### Mutation: Copying with error"
   ]
  },
  {
   "cell_type": "code",
   "execution_count": 50,
   "metadata": {
    "collapsed": false
   },
   "outputs": [],
   "source": [
    "# Mutates a multiple real-value\n",
    "# genome\n",
    "def mutate_genome(genome):\n",
    "    \n",
    "    # Select one of the real-values uniform randomly\n",
    "    geneToMutateIdx = random.randint(len(genome.genes))\n",
    "    \n",
    "    # Perturbs that value by adding random value in [-0.01, 0.01]\n",
    "    genome.genes[geneToMutateIdx] += random.uniform(-0.01, 0.01)"
   ]
  },
  {
   "cell_type": "code",
   "execution_count": 51,
   "metadata": {
    "collapsed": false
   },
   "outputs": [
    {
     "name": "stdout",
     "output_type": "stream",
     "text": [
      "Champion -- Genes = [-2.4758100496040414, -1.0840864715395624] Fitness = -8.55965088719\n"
     ]
    },
    {
     "data": {
      "text/plain": [
       "<function __main__.interactive_iteration>"
      ]
     },
     "execution_count": 51,
     "metadata": {},
     "output_type": "execute_result"
    },
    {
     "data": {
      "image/png": "[encoded data removed]",
      "text/plain": [
       "<matplotlib.figure.Figure at 0x5a52dd0>"
      ]
     },
     "metadata": {},
     "output_type": "display_data"
    }
   ],
   "source": [
    "# Create interactive sliders for parameters\n",
    "interact(interactive_iteration, generations=(0,10000,10),\n",
    "                                mu=(0,1000, 10),\n",
    "                                lamb=(0,1000, 10))"
   ]
  },
  {
   "cell_type": "markdown",
   "metadata": {},
   "source": [
    "#### Mutation Power"
   ]
  },
  {
   "cell_type": "code",
   "execution_count": 52,
   "metadata": {
    "collapsed": true
   },
   "outputs": [],
   "source": [
    "# Mutates a multiple real-value\n",
    "# genome\n",
    "def mutate_genome(genome):\n",
    "    \n",
    "    # Select one of the real-values uniform randomly\n",
    "    geneToMutateIdx = random.randint(len(genome.genes))\n",
    "    \n",
    "    # Perturbs that value by adding random value in [-10, 10]\n",
    "    genome.genes[geneToMutateIdx] += random.uniform(-10, 10)"
   ]
  },
  {
   "cell_type": "code",
   "execution_count": 53,
   "metadata": {
    "collapsed": false
   },
   "outputs": [
    {
     "name": "stdout",
     "output_type": "stream",
     "text": [
      "Champion -- Genes = [-0.29452749160656033, 0.40849583940898615] Fitness = -2.56710616952\n"
     ]
    },
    {
     "data": {
      "text/plain": [
       "<function __main__.interactive_iteration>"
      ]
     },
     "execution_count": 53,
     "metadata": {},
     "output_type": "execute_result"
    },
    {
     "data": {
      "image/png": "[encoded data removed]",
      "text/plain": [
       "<matplotlib.figure.Figure at 0x807aad0>"
      ]
     },
     "metadata": {},
     "output_type": "display_data"
    }
   ],
   "source": [
    "# Create interactive sliders for parameters\n",
    "interact(interactive_iteration, generations=(0,10000,10),\n",
    "                                mu=(0,1000, 10),\n",
    "                                lamb=(0,1000, 10))"
   ]
  },
  {
   "cell_type": "code",
   "execution_count": 54,
   "metadata": {
    "collapsed": true
   },
   "outputs": [],
   "source": [
    "power = 0.1\n",
    "\n",
    "# Mutates a multiple real-value\n",
    "# genome\n",
    "def mutate_genome(genome):\n",
    "    \n",
    "    # Select one of the real-values uniform randomly\n",
    "    geneToMutateIdx = random.randint(len(genome.genes))\n",
    "    \n",
    "    # Perturbs that value by adding random value in [-power, power]\n",
    "    genome.genes[geneToMutateIdx] += random.uniform(-power, power)"
   ]
  },
  {
   "cell_type": "code",
   "execution_count": 55,
   "metadata": {
    "collapsed": false
   },
   "outputs": [
    {
     "name": "stdout",
     "output_type": "stream",
     "text": [
      "Champion -- Genes = [1.9920588383386146, 3.9738777313785603] Fitness = -0.686773720847\n"
     ]
    },
    {
     "data": {
      "text/plain": [
       "<function __main__.interactive_iteration>"
      ]
     },
     "execution_count": 55,
     "metadata": {},
     "output_type": "execute_result"
    },
    {
     "data": {
      "image/png": "[encoded data removed]",
      "text/plain": [
       "<matplotlib.figure.Figure at 0x82590d0>"
      ]
     },
     "metadata": {},
     "output_type": "display_data"
    }
   ],
   "source": [
    "# Function that will perform evolution \n",
    "# with the given parameters\n",
    "def interactive_iteration(generations=1000,\n",
    "                          mu=1,\n",
    "                          lamb=1,\n",
    "                          mutation_power=1.0):\n",
    "    if(mu == 0):\n",
    "        mu = 1\n",
    "    if(lamb == 0):\n",
    "        lamb = 1\n",
    "    global power\n",
    "    power = mutation_power\n",
    "    winner = evolution(mu, lamb, generations)\n",
    "\n",
    "    print(\"Champion -- Genes = \" + str(winner.genes) + \" Fitness = \" + str(winner.fitness))\n",
    "    \n",
    "# Create interactive sliders for parameters\n",
    "interact(interactive_iteration, generations=(0,10000,10),\n",
    "                                mu=(0,1000, 10),\n",
    "                                lamb=(0,1000, 10),\n",
    "                                mutation_power=(0, 10, 0.05))"
   ]
  },
  {
   "cell_type": "markdown",
   "metadata": {},
   "source": [
    "#### Distribution of Mutations"
   ]
  },
  {
   "cell_type": "code",
   "execution_count": 56,
   "metadata": {
    "collapsed": true
   },
   "outputs": [],
   "source": [
    "sigma = 0.1\n",
    "\n",
    "# Mutates a multiple real-value\n",
    "# genome\n",
    "def mutate_genome(genome):\n",
    "    \n",
    "    # Select one of the real-values uniform randomly\n",
    "    geneToMutateIdx = random.randint(len(genome.genes))\n",
    "    \n",
    "    # Perturbs that value by adding random value in [-power, power]\n",
    "    genome.genes[geneToMutateIdx] += random.normal(sigma)"
   ]
  },
  {
   "cell_type": "code",
   "execution_count": 57,
   "metadata": {
    "collapsed": false
   },
   "outputs": [
    {
     "name": "stdout",
     "output_type": "stream",
     "text": [
      "Champion -- Genes = [1.3799093683774757, 1.9417167809765248] Fitness = -0.251115422239\n"
     ]
    },
    {
     "data": {
      "text/plain": [
       "<function __main__.interactive_iteration>"
      ]
     },
     "execution_count": 57,
     "metadata": {},
     "output_type": "execute_result"
    },
    {
     "data": {
      "image/png": "[encoded data removed]",
      "text/plain": [
       "<matplotlib.figure.Figure at 0x835d390>"
      ]
     },
     "metadata": {},
     "output_type": "display_data"
    }
   ],
   "source": [
    "# Function that will perform evolution \n",
    "# with the given parameters\n",
    "def interactive_iteration(generations=1000,\n",
    "                          mu=1,\n",
    "                          lamb=1,\n",
    "                          mutation_power=1.0):\n",
    "    if(mu == 0):\n",
    "        mu = 1\n",
    "    if(lamb == 0):\n",
    "        lamb = 1\n",
    "    global power\n",
    "    power = mutation_power\n",
    "    global sigma\n",
    "    sigma = mutation_power\n",
    "    winner = evolution(mu, lamb, generations)\n",
    "\n",
    "    print(\"Champion -- Genes = \" + str(winner.genes) + \" Fitness = \" + str(winner.fitness))\n",
    "    \n",
    "# Create interactive sliders for parameters\n",
    "interact(interactive_iteration, generations=(0,10000,10),\n",
    "                                mu=(0,1000, 10),\n",
    "                                lamb=(0,1000, 10),\n",
    "                                mutation_power=(0, 10, 0.05))"
   ]
  },
  {
   "cell_type": "markdown",
   "metadata": {},
   "source": [
    "#### Mutation Rate"
   ]
  },
  {
   "cell_type": "code",
   "execution_count": 58,
   "metadata": {
    "collapsed": true
   },
   "outputs": [],
   "source": [
    "pMutateGene = 0.75\n",
    "\n",
    "def mutate_genome(genome):\n",
    "    # For each gene\n",
    "    for x in range(len(genome.genes)): \n",
    "        # Randomly decide if the gene is to be mutated\n",
    "        if(random.uniform(0, 1) < pMutateGene): \n",
    "            # Mutate this gene\n",
    "            genome.genes[x] += random.normal(0, sigma) "
   ]
  },
  {
   "cell_type": "code",
   "execution_count": 59,
   "metadata": {
    "collapsed": false
   },
   "outputs": [
    {
     "name": "stdout",
     "output_type": "stream",
     "text": [
      "Champion -- Genes = [1.0446059103275755, 1.0956619607692346] Fitness = -0.00397135494421\n"
     ]
    },
    {
     "data": {
      "text/plain": [
       "<function __main__.interactive_iteration>"
      ]
     },
     "execution_count": 59,
     "metadata": {},
     "output_type": "execute_result"
    },
    {
     "data": {
      "image/png": "[encoded data removed]",
      "text/plain": [
       "<matplotlib.figure.Figure at 0x5930fd0>"
      ]
     },
     "metadata": {},
     "output_type": "display_data"
    }
   ],
   "source": [
    "# Function that will perform evolution \n",
    "# with the given parameters\n",
    "def interactive_iteration(generations=1000,\n",
    "                          mu=10,\n",
    "                          lamb=10,\n",
    "                          mutation_power=1.0,\n",
    "                          prob_mutate_gene=0.75):\n",
    "    if(mu == 0):\n",
    "        mu = 1\n",
    "    if(lamb == 0):\n",
    "        lamb = 1\n",
    "    global power\n",
    "    power = mutation_power\n",
    "    global sigma\n",
    "    sigma = mutation_power\n",
    "    global pMutateGene\n",
    "    pMutateGene = prob_mutate_gene\n",
    "    winner = evolution(mu, lamb, generations)\n",
    "\n",
    "    print(\"Champion -- Genes = \" + str(winner.genes) + \" Fitness = \" + str(winner.fitness))\n",
    "    \n",
    "# Create interactive sliders for parameters\n",
    "interact(interactive_iteration, generations=(0,10000,10),\n",
    "                                mu=(0,1000, 10),\n",
    "                                lamb=(0,1000, 10),\n",
    "                                mutation_power=(0, 10, 0.05),\n",
    "                                prob_mutate_gene=(0,1, 0.05))"
   ]
  },
  {
   "cell_type": "markdown",
   "metadata": {},
   "source": [
    "#### 3.3.5. Recombination: Playing Legos with genes"
   ]
  },
  {
   "cell_type": "code",
   "execution_count": 60,
   "metadata": {
    "collapsed": false
   },
   "outputs": [],
   "source": [
    "# Creates a new genome by recombining\n",
    "# the genes of the two given parents\n",
    "def recombine(parent1, parent2):\n",
    "    \n",
    "    # Clone the first parent\n",
    "    child = parent1.clone()  \n",
    "    \n",
    "    # Set the second gene of the child to the value \n",
    "    # of the second gene of the second parent\n",
    "    child.genes[1] = parent2.genes[1] \n",
    "    \n",
    "    # Return the child\n",
    "    return child \n",
    "    \n",
    "# Takes in a set of parents and produces an equivalent number of offspring\n",
    "def reproduce(parents): \n",
    " \n",
    "    # Initialize an empty list of offspring\n",
    "    offspring = []\n",
    "    \n",
    "    # For each parent, create offspring through sexual reproduction\n",
    "    for parent in parents: \n",
    "\n",
    "        # Select a second parent\n",
    "        parent2 = parents[random.randint(len(parents))]\n",
    "        \n",
    "        # Create a child by recombining the genes from parent and parent2\n",
    "        child = recombine(parent, parent2)\n",
    "        \n",
    "        # Set its fitness to a very low value\n",
    "        child.fitness = -10000 \n",
    "        \n",
    "        # Add the child to the offspring list\n",
    "        offspring.append(child) \n",
    "        \n",
    "    # Return the list of offspring\n",
    "    return offspring "
   ]
  },
  {
   "cell_type": "code",
   "execution_count": 61,
   "metadata": {
    "collapsed": false
   },
   "outputs": [
    {
     "name": "stdout",
     "output_type": "stream",
     "text": [
      "Champion -- Genes = [-0.9052636893115222, 0.6953066692658139] Fitness = -1.8201017336\n"
     ]
    },
    {
     "data": {
      "text/plain": [
       "<function __main__.interactive_iteration>"
      ]
     },
     "execution_count": 61,
     "metadata": {},
     "output_type": "execute_result"
    },
    {
     "data": {
      "image/png": "[encoded data removed]",
      "text/plain": [
       "<matplotlib.figure.Figure at 0x7d78b50>"
      ]
     },
     "metadata": {},
     "output_type": "display_data"
    }
   ],
   "source": [
    "def evaluate(genome):\n",
    "    genome.fitness = -math.log(abs((100*(genome.genes[0]**2 - genome.genes[1])**2 + (1 - genome.genes[0])**2)) + 1)\n",
    "      \n",
    "# Create interactive sliders for parameters\n",
    "interact(interactive_iteration, generations=(0,10000,10),\n",
    "                                mu=(0,1000, 10),\n",
    "                                lamb=(0,1000, 10),\n",
    "                                mutation_power=(0, 10, 0.05),\n",
    "                                prob_mutate_gene=(0,1, 0.05))"
   ]
  },
  {
   "cell_type": "markdown",
   "metadata": {},
   "source": [
    "#### Mutation AND Recombination"
   ]
  },
  {
   "cell_type": "code",
   "execution_count": 62,
   "metadata": {
    "collapsed": false
   },
   "outputs": [],
   "source": [
    "# Probability of performing\n",
    "# recombination rather than mutation\n",
    "pRecombination = 0.5\n",
    "\n",
    "# Takes in a set of parents and produces \n",
    "# an equivalent number of offspring\n",
    "def reproduce(parents):\n",
    "    \n",
    "    # Initialize an empty list of offspring\n",
    "    offspring = [] \n",
    "    \n",
    "    # For each parent, create offspring \n",
    "    for parent in parents: \n",
    "        child = None\n",
    "        \n",
    "        # If we reproduce through cloning and mutation\n",
    "        if(random.uniform(0, 1) > pRecombination):\n",
    "            # Clone the parent\n",
    "            child = parent.clone();\n",
    "            # Mutate the clone\n",
    "            mutate_genome(child)\n",
    "        # Else we reproduce through recombination\n",
    "        else:\n",
    "            # Select a second parent\n",
    "            parent2 = parents[random.randint(len(parents))]\n",
    "            # Create a child by recombining the genes from parent and parent2\n",
    "            child = recombine(parent, parent2) \n",
    "            \n",
    "        # Set child's fitness to a very low value\n",
    "        child.fitness = -10000 \n",
    "        # Add the child to the offspring list\n",
    "        offspring.append(child) \n",
    "    \n",
    "    # Return the list of offspring\n",
    "    return offspring "
   ]
  },
  {
   "cell_type": "code",
   "execution_count": 63,
   "metadata": {
    "collapsed": false
   },
   "outputs": [
    {
     "name": "stdout",
     "output_type": "stream",
     "text": [
      "Champion -- Genes = [0.9580940881458754, 0.9181128243773653] Fitness = -0.00175740097628\n"
     ]
    },
    {
     "data": {
      "text/plain": [
       "<function __main__.interactive_iteration>"
      ]
     },
     "execution_count": 63,
     "metadata": {},
     "output_type": "execute_result"
    },
    {
     "data": {
      "image/png": "[encoded data removed]",
      "text/plain": [
       "<matplotlib.figure.Figure at 0x5932ff0>"
      ]
     },
     "metadata": {},
     "output_type": "display_data"
    }
   ],
   "source": [
    "def evaluate(genome):\n",
    "    genome.fitness = -math.log(abs((100*(genome.genes[0]**2 - genome.genes[1])**2 + (1 - genome.genes[0])**2)) + 1)\n",
    "\n",
    "    # Function that will perform evolution \n",
    "# with the given parameters\n",
    "def interactive_iteration(generations=1000,\n",
    "                          mu=10,\n",
    "                          lamb=10,\n",
    "                          mutation_power=1.0,\n",
    "                          prob_mutate_gene=0.75,\n",
    "                          prob_recombine=0.5):\n",
    "    if(mu == 0):\n",
    "        mu = 1\n",
    "    if(lamb == 0):\n",
    "        lamb = 1\n",
    "    global power\n",
    "    power = mutation_power\n",
    "    global sigma\n",
    "    sigma = mutation_power\n",
    "    global pMutateGene\n",
    "    pMutateGene = prob_mutate_gene\n",
    "    global pRecombine\n",
    "    pRecombine = prob_recombine\n",
    "    winner = evolution(mu, lamb, generations)\n",
    "\n",
    "    print(\"Champion -- Genes = \" + str(winner.genes) + \" Fitness = \" + str(winner.fitness))\n",
    "    \n",
    "# Create interactive sliders for parameters\n",
    "interact(interactive_iteration, generations=(0,10000,10),\n",
    "                                mu=(0,1000, 10),\n",
    "                                lamb=(0,1000, 10),\n",
    "                                mutation_power=(0, 10, 0.05),\n",
    "                                prob_mutate_gene=(0,1, 0.05),\n",
    "                                prob_recombine=(0,1,0.05))"
   ]
  },
  {
   "cell_type": "markdown",
   "metadata": {},
   "source": [
    "### 3.4. (Optional) Advanced Topics: Theory, How to make policies, Co-Evolution, and Prison"
   ]
  },
  {
   "cell_type": "markdown",
   "metadata": {},
   "source": [
    "#### 3.4.1. Building blocks and Schemas"
   ]
  },
  {
   "cell_type": "code",
   "execution_count": 64,
   "metadata": {
    "collapsed": false
   },
   "outputs": [
    {
     "name": "stdout",
     "output_type": "stream",
     "text": [
      "Champion -- Genes = [1, 1, 1, 1, 1, 1, 1, 1, 1, 1, 1, 1, 1, 1, 1, 1, 1, 1, 1, 1, 1, 1, 1, 1, 1, 1, 1, 1, 1, 1, 1, 1] Fitness = 32\n"
     ]
    },
    {
     "data": {
      "image/png": "[encoded data removed]",
      "text/plain": [
       "<matplotlib.figure.Figure at 0x5a524b0>"
      ]
     },
     "metadata": {},
     "output_type": "display_data"
    }
   ],
   "source": [
    "# Number of bits in the genome\n",
    "numBits = 32 \n",
    "# Probability of mutating a bit\n",
    "pMutateGene = 1.0/numBits\n",
    "# Probability of recombining two genomes\n",
    "pRecombination = 0.5 \n",
    "# Population Size\n",
    "mu = 10 \n",
    "# Offspring size\n",
    "lamb = 10 \n",
    "\n",
    "# Creates and returns a new random genome\n",
    "def new_genome(): \n",
    "    bits = []\n",
    "    for x in range(numBits):\n",
    "        bits.append(random.randint(2))\n",
    "    # A random genome for this domain is array of 0's and 1's\n",
    "    return Genome(-10000, bits) \n",
    "\n",
    "# Mutation takes a genome and alters \n",
    "# its genes to create a new solution instance\n",
    "def mutate_genome(genome): \n",
    "    # For the number genes\n",
    "    for x in range(len(genome.genes)): \n",
    "        # If randomly selected number is \n",
    "        # below probability of mutating single gene\n",
    "        if(random.uniform(0, 1) < pMutateGene): \n",
    "            # Mutate this gene by flipping 0 to 1, or, 0 to 1\n",
    "            genome.genes[x] = (genome.genes[x] + 1) % 2 \n",
    "\n",
    "# Creates offspring by recombining\n",
    "# the genes of the given parents\n",
    "def recombine(parent1, parent2):  \n",
    "    # Clone parent 1\n",
    "    child = parent1.clone()\n",
    "    # Choose a point where the child's genes \n",
    "    # start to come from parent 2\n",
    "    crossoverPoint = random.randint(1, len(child.genes)-1) \n",
    "    # Set the child genes to parent 1's genes\n",
    "    # up to the crossover point\n",
    "    child.genes = child.genes[:crossoverPoint]\n",
    "    # Complete the child's genes with parent 2's\n",
    "    # genes after the crossover point\n",
    "    child.genes.extend(parent2.genes[crossoverPoint:])\n",
    "    # Return the child\n",
    "    return child \n",
    "\n",
    "# Evaluator that is the OneMax Domain\n",
    "def evaluate(genome):\n",
    "    genome.fitness = 0\n",
    "    # Implementation of OneMax domain \n",
    "    # (i.e. maximize the number of 1 bits in the genome)\n",
    "    # Sums the number of bits set to 1\n",
    "    for x in genome.genes: \n",
    "        genome.fitness += x\n",
    "\n",
    "winner = evolution(mu, lamb, 1000)\n",
    "print(\"Champion -- Genes = \" + str(winner.genes) + \" Fitness = \" + str(winner.fitness))"
   ]
  },
  {
   "cell_type": "markdown",
   "metadata": {},
   "source": [
    "#### 3.4.2. The Prisoner's Dilemma"
   ]
  },
  {
   "cell_type": "code",
   "execution_count": 65,
   "metadata": {
    "collapsed": false
   },
   "outputs": [],
   "source": [
    "def evolution(populationSize, offspringSize, maxGenerations):\n",
    "    \n",
    "    currentGeneration = 0 # Current generation being executed\n",
    "    \n",
    "    avgFitnessByGeneration = [] # Array to hold generational average fitness values\n",
    "    bestFitnessByGeneration = [] # Array to hold generational champion fitness values\n",
    "    championValuesByGeneration = [] # Array to hold generational champion values\n",
    "    \n",
    "    population = []  # Initialize an empty population\n",
    "    bestGenome = None # Set the best genome to a null value\n",
    "    \n",
    "    avg = 0.0  # Initialize variable for calculating population average fitness to 0\n",
    "    for x in range(populationSize): # For the size of the population\n",
    "        population.append(new_genome()) # Createa new random genome and add it to the population\n",
    "    for x in range(populationSize): # For the size of the population\n",
    "        evaluate(population[x], population) # Evaluate each genome against the population\n",
    "        avg += population[x].fitness # Add its fitness score to the average\n",
    "        if(bestGenome is None or population[x].fitness > bestGenome.fitness):  # If the best genome hasn't been set, or, this\n",
    "                                                                               # genome has better fitness\n",
    "            bestGenome = population[x] # Set the bestGenome to this genome\n",
    "    \n",
    "    # Add the metrics to their various arrays for tracking\n",
    "    avgFitnessByGeneration.append(avg/populationSize)\n",
    "    bestFitnessByGeneration.append(bestGenome.fitness)\n",
    "    championValuesByGeneration.append(bestGenome.genes)\n",
    "    \n",
    "    while(currentGeneration < maxGenerations): # For the maximum number of generations\n",
    "        \n",
    "        parents = select_parents(population, offspringSize) # Select a number of parents equal to the number of offspring to create\n",
    "        offspring = reproduce(parents) # Create a number of offspring by reproducing the selected parents\n",
    "        bestGenome = None\n",
    "        for child in offspring: # For each of the offspring\n",
    "            evaluate(child, population) # Evaluate the offspring against the existing population\n",
    "            if(bestGenome is None or child.fitness > bestGenome.fitness): # Update the best genome is applicable\n",
    "                bestGenome = child\n",
    "        \n",
    "        population = select_population(population, offspring) # Select a new population from the current population and offspring\n",
    "        \n",
    "        avg = 0.0 # Init average to 0\n",
    "        for genome in population: # For each genome in the population\n",
    "            avg += genome.fitness # Add its fitness to the average\n",
    "   \n",
    "        # Add the metrics to the various arrays\n",
    "        avgFitnessByGeneration.append(avg/populationSize)\n",
    "        bestFitnessByGeneration.append(bestGenome.fitness)\n",
    "        championValuesByGeneration.append(bestGenome.genes)\n",
    "        \n",
    "        currentGeneration += 1 # Increment current generation by one\n",
    "    \n",
    "    # Plot the best fitness, average fitness, and the champion gene values by generation\n",
    "    labels = range(len(bestFitnessByGeneration))\n",
    "    subplot(2,1,1)\n",
    "    plot(labels, bestFitnessByGeneration, labels, avgFitnessByGeneration)\n",
    "    ylabel(\"Fitness\")\n",
    "    legend([\"Best\", \"Avg.\"], loc='lower center', bbox_to_anchor=(0.5, 1.05),\n",
    "          ncol=3, fancybox=True, shadow=True)\n",
    "    subplot(2,1,2)\n",
    "    plot(labels, championValuesByGeneration)\n",
    "    ylabel(\"Gene Values\")\n",
    "    \n",
    "    \n",
    "    return bestGenome # Return the best genome"
   ]
  },
  {
   "cell_type": "code",
   "execution_count": null,
   "metadata": {
    "collapsed": false
   },
   "outputs": [],
   "source": [
    "numBits = 5  # Five bits to represent the prisoner's policy, with meaning defect, and 0 meaning cooperate\n",
    "             # The first bit represents an action to take with no history, followed by history of CC, DC, CD, and DD\n",
    "rewards = [3, 5, 0, 1] # Rewards for CC, DC, CD, DD\n",
    "gameIterations = 100\n",
    "\n",
    "def dilemma(policy, opponent, iterations): # Score a given policy against an opponent for a number of iterations\n",
    "    score = 0.0 # Initial score of 0\n",
    "    lastOutcome = 0 # Last outcome with (0 = No history, 1 = CC, 2 = DC, 3 = CD, 4 = DD)\n",
    "    for x in range(iterations): # For the number of iterations\n",
    "        policyDecision = policy[lastOutcome] # Get the policy's decision given last outcome\n",
    "        opponentDecision = opponent[lastOutcome] # Get opponent's decision given last outcome\n",
    "        lastOutcome = 1 + policyDecision * 1 + opponentDecision * 2 # Set the last outcome\n",
    "        score += rewards[lastOutcome - 1] # Get the score given the outcome\n",
    "    return score / iterations # Dive the score by number of iterations\n",
    "\n",
    "def evaluate(genome, opponents):\n",
    "    genome.fitness = 0\n",
    "    for x in opponents: # For each opponent, evaluate the genome against it\n",
    "        genome.fitness += dilemma(genome.genes, x.genes, gameIterations)\n",
    "    genome.fitness = genome.fitness / len(opponents) # Divide fitness by number of opponents for an average    "
   ]
  },
  {
   "cell_type": "code",
   "execution_count": null,
   "metadata": {
    "collapsed": false
   },
   "outputs": [],
   "source": [
    "mu = 100 # Population Size\n",
    "lamb = 10 # Offspring size\n",
    "totalGenerations = 1000 # Number of generations of evolution \n",
    "pMutateGene = 1.0/numBits # Probability of flipping a bit\n",
    "pRecombination = 0 # Probability of recombining genomes rather than mutating\n",
    "rewards = [3, 5, 0, 1] # Rewards for CC, DC, CD, DD\n",
    "gameIterations = 100 # Number of iterations for the Prisoner's Dilemma\n",
    "\n",
    "winner = evolution(mu, lamb, totalGenerations)\n",
    "print(\"Champion -- Genes = \" + str(winner.genes) + \" Fitness = \" + str(winner.fitness))"
   ]
  }
 ],
 "metadata": {
  "kernelspec": {
   "display_name": "Python 2",
   "language": "python",
   "name": "python2"
  },
  "language_info": {
   "codemirror_mode": {
    "name": "ipython",
    "version": 2
   },
   "file_extension": ".py",
   "mimetype": "text/x-python",
   "name": "python",
   "nbconvert_exporter": "python",
   "pygments_lexer": "ipython2",
   "version": "2.7.6"
  }
 },
 "nbformat": 4,
 "nbformat_minor": 0
}
